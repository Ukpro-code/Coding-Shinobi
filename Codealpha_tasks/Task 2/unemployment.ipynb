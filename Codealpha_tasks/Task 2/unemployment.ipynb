{
 "cells": [
  {
   "cell_type": "code",
   "execution_count": 1,
   "metadata": {},
   "outputs": [],
   "source": [
    "import pandas as pd\n",
    "import numpy as np\n",
    "import matplotlib.pyplot as plt\n",
    "import seaborn as sns\n",
    "from scipy import stats\n"
   ]
  },
  {
   "cell_type": "code",
   "execution_count": 2,
   "metadata": {},
   "outputs": [],
   "source": [
    "%matplotlib inline\n"
   ]
  },
  {
   "cell_type": "code",
   "execution_count": 3,
   "metadata": {},
   "outputs": [],
   "source": [
    "# Load the data\n",
    "dfu = pd.read_csv('d:/Ukesh/Coding Shinobi/Codealpha_tasks/Task 2/Unemployment in India.csv')\n"
   ]
  },
  {
   "cell_type": "code",
   "execution_count": 4,
   "metadata": {},
   "outputs": [
    {
     "data": {
      "application/vnd.microsoft.datawrangler.viewer.v0+json": {
       "columns": [
        {
         "name": "index",
         "rawType": "int64",
         "type": "integer"
        },
        {
         "name": "Region",
         "rawType": "object",
         "type": "string"
        },
        {
         "name": " Date",
         "rawType": "object",
         "type": "string"
        },
        {
         "name": " Frequency",
         "rawType": "object",
         "type": "string"
        },
        {
         "name": " Estimated Unemployment Rate (%)",
         "rawType": "float64",
         "type": "float"
        },
        {
         "name": " Estimated Employed",
         "rawType": "float64",
         "type": "float"
        },
        {
         "name": " Estimated Labour Participation Rate (%)",
         "rawType": "float64",
         "type": "float"
        },
        {
         "name": "Area",
         "rawType": "object",
         "type": "string"
        }
       ],
       "conversionMethod": "pd.DataFrame",
       "ref": "fba382bb-48a8-4c11-abe2-fe7ac9161c47",
       "rows": [
        [
         "0",
         "Andhra Pradesh",
         " 31-05-2019",
         " Monthly",
         "3.65",
         "11999139.0",
         "43.24",
         "Rural"
        ],
        [
         "1",
         "Andhra Pradesh",
         " 30-06-2019",
         " Monthly",
         "3.05",
         "11755881.0",
         "42.05",
         "Rural"
        ],
        [
         "2",
         "Andhra Pradesh",
         " 31-07-2019",
         " Monthly",
         "3.75",
         "12086707.0",
         "43.5",
         "Rural"
        ],
        [
         "3",
         "Andhra Pradesh",
         " 31-08-2019",
         " Monthly",
         "3.32",
         "12285693.0",
         "43.97",
         "Rural"
        ],
        [
         "4",
         "Andhra Pradesh",
         " 30-09-2019",
         " Monthly",
         "5.17",
         "12256762.0",
         "44.68",
         "Rural"
        ]
       ],
       "shape": {
        "columns": 7,
        "rows": 5
       }
      },
      "text/html": [
       "<div>\n",
       "<style scoped>\n",
       "    .dataframe tbody tr th:only-of-type {\n",
       "        vertical-align: middle;\n",
       "    }\n",
       "\n",
       "    .dataframe tbody tr th {\n",
       "        vertical-align: top;\n",
       "    }\n",
       "\n",
       "    .dataframe thead th {\n",
       "        text-align: right;\n",
       "    }\n",
       "</style>\n",
       "<table border=\"1\" class=\"dataframe\">\n",
       "  <thead>\n",
       "    <tr style=\"text-align: right;\">\n",
       "      <th></th>\n",
       "      <th>Region</th>\n",
       "      <th>Date</th>\n",
       "      <th>Frequency</th>\n",
       "      <th>Estimated Unemployment Rate (%)</th>\n",
       "      <th>Estimated Employed</th>\n",
       "      <th>Estimated Labour Participation Rate (%)</th>\n",
       "      <th>Area</th>\n",
       "    </tr>\n",
       "  </thead>\n",
       "  <tbody>\n",
       "    <tr>\n",
       "      <th>0</th>\n",
       "      <td>Andhra Pradesh</td>\n",
       "      <td>31-05-2019</td>\n",
       "      <td>Monthly</td>\n",
       "      <td>3.65</td>\n",
       "      <td>11999139.0</td>\n",
       "      <td>43.24</td>\n",
       "      <td>Rural</td>\n",
       "    </tr>\n",
       "    <tr>\n",
       "      <th>1</th>\n",
       "      <td>Andhra Pradesh</td>\n",
       "      <td>30-06-2019</td>\n",
       "      <td>Monthly</td>\n",
       "      <td>3.05</td>\n",
       "      <td>11755881.0</td>\n",
       "      <td>42.05</td>\n",
       "      <td>Rural</td>\n",
       "    </tr>\n",
       "    <tr>\n",
       "      <th>2</th>\n",
       "      <td>Andhra Pradesh</td>\n",
       "      <td>31-07-2019</td>\n",
       "      <td>Monthly</td>\n",
       "      <td>3.75</td>\n",
       "      <td>12086707.0</td>\n",
       "      <td>43.50</td>\n",
       "      <td>Rural</td>\n",
       "    </tr>\n",
       "    <tr>\n",
       "      <th>3</th>\n",
       "      <td>Andhra Pradesh</td>\n",
       "      <td>31-08-2019</td>\n",
       "      <td>Monthly</td>\n",
       "      <td>3.32</td>\n",
       "      <td>12285693.0</td>\n",
       "      <td>43.97</td>\n",
       "      <td>Rural</td>\n",
       "    </tr>\n",
       "    <tr>\n",
       "      <th>4</th>\n",
       "      <td>Andhra Pradesh</td>\n",
       "      <td>30-09-2019</td>\n",
       "      <td>Monthly</td>\n",
       "      <td>5.17</td>\n",
       "      <td>12256762.0</td>\n",
       "      <td>44.68</td>\n",
       "      <td>Rural</td>\n",
       "    </tr>\n",
       "  </tbody>\n",
       "</table>\n",
       "</div>"
      ],
      "text/plain": [
       "           Region         Date  Frequency   Estimated Unemployment Rate (%)  \\\n",
       "0  Andhra Pradesh   31-05-2019    Monthly                              3.65   \n",
       "1  Andhra Pradesh   30-06-2019    Monthly                              3.05   \n",
       "2  Andhra Pradesh   31-07-2019    Monthly                              3.75   \n",
       "3  Andhra Pradesh   31-08-2019    Monthly                              3.32   \n",
       "4  Andhra Pradesh   30-09-2019    Monthly                              5.17   \n",
       "\n",
       "    Estimated Employed   Estimated Labour Participation Rate (%)   Area  \n",
       "0           11999139.0                                     43.24  Rural  \n",
       "1           11755881.0                                     42.05  Rural  \n",
       "2           12086707.0                                     43.50  Rural  \n",
       "3           12285693.0                                     43.97  Rural  \n",
       "4           12256762.0                                     44.68  Rural  "
      ]
     },
     "execution_count": 4,
     "metadata": {},
     "output_type": "execute_result"
    }
   ],
   "source": [
    "dfu.head()\n"
   ]
  },
  {
   "cell_type": "code",
   "execution_count": 5,
   "metadata": {},
   "outputs": [
    {
     "name": "stdout",
     "output_type": "stream",
     "text": [
      "<class 'pandas.core.frame.DataFrame'>\n",
      "RangeIndex: 768 entries, 0 to 767\n",
      "Data columns (total 7 columns):\n",
      " #   Column                                    Non-Null Count  Dtype  \n",
      "---  ------                                    --------------  -----  \n",
      " 0   Region                                    740 non-null    object \n",
      " 1    Date                                     740 non-null    object \n",
      " 2    Frequency                                740 non-null    object \n",
      " 3    Estimated Unemployment Rate (%)          740 non-null    float64\n",
      " 4    Estimated Employed                       740 non-null    float64\n",
      " 5    Estimated Labour Participation Rate (%)  740 non-null    float64\n",
      " 6   Area                                      740 non-null    object \n",
      "dtypes: float64(3), object(4)\n",
      "memory usage: 42.1+ KB\n"
     ]
    }
   ],
   "source": [
    "dfu.info()\n"
   ]
  },
  {
   "cell_type": "code",
   "execution_count": 6,
   "metadata": {},
   "outputs": [
    {
     "data": {
      "text/plain": [
       "(768, 7)"
      ]
     },
     "execution_count": 6,
     "metadata": {},
     "output_type": "execute_result"
    }
   ],
   "source": [
    "dfu.shape\n"
   ]
  },
  {
   "cell_type": "code",
   "execution_count": 7,
   "metadata": {},
   "outputs": [
    {
     "data": {
      "application/vnd.microsoft.datawrangler.viewer.v0+json": {
       "columns": [
        {
         "name": "index",
         "rawType": "object",
         "type": "string"
        },
        {
         "name": " Estimated Unemployment Rate (%)",
         "rawType": "float64",
         "type": "float"
        },
        {
         "name": " Estimated Employed",
         "rawType": "float64",
         "type": "float"
        },
        {
         "name": " Estimated Labour Participation Rate (%)",
         "rawType": "float64",
         "type": "float"
        }
       ],
       "conversionMethod": "pd.DataFrame",
       "ref": "fb905022-875d-4fec-9258-54ca56b53bed",
       "rows": [
        [
         "count",
         "740.0",
         "740.0",
         "740.0"
        ],
        [
         "mean",
         "11.787945945945946",
         "7204460.025675676",
         "42.630121621621626"
        ],
        [
         "std",
         "10.721298373157783",
         "8087988.4294577865",
         "8.111094365865872"
        ],
        [
         "min",
         "0.0",
         "49420.0",
         "13.33"
        ],
        [
         "25%",
         "4.657500000000001",
         "1190404.5",
         "38.0625"
        ],
        [
         "50%",
         "8.35",
         "4744178.5",
         "41.16"
        ],
        [
         "75%",
         "15.887500000000001",
         "11275489.5",
         "45.505"
        ],
        [
         "max",
         "76.74",
         "45777509.0",
         "72.57"
        ]
       ],
       "shape": {
        "columns": 3,
        "rows": 8
       }
      },
      "text/html": [
       "<div>\n",
       "<style scoped>\n",
       "    .dataframe tbody tr th:only-of-type {\n",
       "        vertical-align: middle;\n",
       "    }\n",
       "\n",
       "    .dataframe tbody tr th {\n",
       "        vertical-align: top;\n",
       "    }\n",
       "\n",
       "    .dataframe thead th {\n",
       "        text-align: right;\n",
       "    }\n",
       "</style>\n",
       "<table border=\"1\" class=\"dataframe\">\n",
       "  <thead>\n",
       "    <tr style=\"text-align: right;\">\n",
       "      <th></th>\n",
       "      <th>Estimated Unemployment Rate (%)</th>\n",
       "      <th>Estimated Employed</th>\n",
       "      <th>Estimated Labour Participation Rate (%)</th>\n",
       "    </tr>\n",
       "  </thead>\n",
       "  <tbody>\n",
       "    <tr>\n",
       "      <th>count</th>\n",
       "      <td>740.000000</td>\n",
       "      <td>7.400000e+02</td>\n",
       "      <td>740.000000</td>\n",
       "    </tr>\n",
       "    <tr>\n",
       "      <th>mean</th>\n",
       "      <td>11.787946</td>\n",
       "      <td>7.204460e+06</td>\n",
       "      <td>42.630122</td>\n",
       "    </tr>\n",
       "    <tr>\n",
       "      <th>std</th>\n",
       "      <td>10.721298</td>\n",
       "      <td>8.087988e+06</td>\n",
       "      <td>8.111094</td>\n",
       "    </tr>\n",
       "    <tr>\n",
       "      <th>min</th>\n",
       "      <td>0.000000</td>\n",
       "      <td>4.942000e+04</td>\n",
       "      <td>13.330000</td>\n",
       "    </tr>\n",
       "    <tr>\n",
       "      <th>25%</th>\n",
       "      <td>4.657500</td>\n",
       "      <td>1.190404e+06</td>\n",
       "      <td>38.062500</td>\n",
       "    </tr>\n",
       "    <tr>\n",
       "      <th>50%</th>\n",
       "      <td>8.350000</td>\n",
       "      <td>4.744178e+06</td>\n",
       "      <td>41.160000</td>\n",
       "    </tr>\n",
       "    <tr>\n",
       "      <th>75%</th>\n",
       "      <td>15.887500</td>\n",
       "      <td>1.127549e+07</td>\n",
       "      <td>45.505000</td>\n",
       "    </tr>\n",
       "    <tr>\n",
       "      <th>max</th>\n",
       "      <td>76.740000</td>\n",
       "      <td>4.577751e+07</td>\n",
       "      <td>72.570000</td>\n",
       "    </tr>\n",
       "  </tbody>\n",
       "</table>\n",
       "</div>"
      ],
      "text/plain": [
       "        Estimated Unemployment Rate (%)   Estimated Employed  \\\n",
       "count                        740.000000         7.400000e+02   \n",
       "mean                          11.787946         7.204460e+06   \n",
       "std                           10.721298         8.087988e+06   \n",
       "min                            0.000000         4.942000e+04   \n",
       "25%                            4.657500         1.190404e+06   \n",
       "50%                            8.350000         4.744178e+06   \n",
       "75%                           15.887500         1.127549e+07   \n",
       "max                           76.740000         4.577751e+07   \n",
       "\n",
       "        Estimated Labour Participation Rate (%)  \n",
       "count                                740.000000  \n",
       "mean                                  42.630122  \n",
       "std                                    8.111094  \n",
       "min                                   13.330000  \n",
       "25%                                   38.062500  \n",
       "50%                                   41.160000  \n",
       "75%                                   45.505000  \n",
       "max                                   72.570000  "
      ]
     },
     "execution_count": 7,
     "metadata": {},
     "output_type": "execute_result"
    }
   ],
   "source": [
    "dfu.describe()\n"
   ]
  },
  {
   "cell_type": "code",
   "execution_count": 8,
   "metadata": {},
   "outputs": [
    {
     "name": "stdout",
     "output_type": "stream",
     "text": [
      "Sucessfully Suppressed Warnings\n"
     ]
    }
   ],
   "source": [
    "import warnings\n",
    "warnings.simplefilter('ignore')\n",
    "print(\"Sucessfully Suppressed Warnings\")\n"
   ]
  },
  {
   "cell_type": "code",
   "execution_count": 9,
   "metadata": {},
   "outputs": [
    {
     "data": {
      "text/plain": [
       "Region                                      28\n",
       " Date                                       28\n",
       " Frequency                                  28\n",
       " Estimated Unemployment Rate (%)            28\n",
       " Estimated Employed                         28\n",
       " Estimated Labour Participation Rate (%)    28\n",
       "Area                                        28\n",
       "dtype: int64"
      ]
     },
     "execution_count": 9,
     "metadata": {},
     "output_type": "execute_result"
    }
   ],
   "source": [
    "dfu.isnull().sum()\n"
   ]
  },
  {
   "cell_type": "code",
   "execution_count": 10,
   "metadata": {},
   "outputs": [],
   "source": [
    "dfu.columns = dfu.columns.str.strip()\n"
   ]
  },
  {
   "cell_type": "code",
   "execution_count": 11,
   "metadata": {},
   "outputs": [
    {
     "name": "stdout",
     "output_type": "stream",
     "text": [
      "Columns Names \n",
      "\n",
      "Region\n",
      "Date\n",
      "Frequency\n",
      "Estimated Unemployment Rate (%)\n",
      "Estimated Employed\n",
      "Estimated Labour Participation Rate (%)\n",
      "Area\n"
     ]
    }
   ],
   "source": [
    "# Display Columns name\n",
    "print(\"Columns Names \\n\")\n",
    "for i in dfu.columns:\n",
    "    print(i)    \n"
   ]
  },
  {
   "cell_type": "code",
   "execution_count": 12,
   "metadata": {},
   "outputs": [
    {
     "name": "stdout",
     "output_type": "stream",
     "text": [
      "Columns Names \n",
      "\n",
      "Index(['Region', 'Date', 'Frequency', 'Unemployment_Rate', 'Employed',\n",
      "       'Labour_Participation_Rate', 'Area'],\n",
      "      dtype='object')\n"
     ]
    }
   ],
   "source": [
    "# Rename the columns\n",
    "dfu.rename(columns={'Estimated Unemployment Rate (%)' : 'Unemployment_Rate','Estimated Employed' : 'Employed','Estimated Labour Participation Rate (%)' : 'Labour_Participation_Rate'}, inplace=True)\n",
    "\n",
    "# Display Columns name\n",
    "print(\"Columns Names \\n\")\n",
    "print(dfu.columns)\n"
   ]
  },
  {
   "cell_type": "code",
   "execution_count": 13,
   "metadata": {},
   "outputs": [
    {
     "name": "stdout",
     "output_type": "stream",
     "text": [
      "<class 'pandas.core.frame.DataFrame'>\n",
      "RangeIndex: 768 entries, 0 to 767\n",
      "Data columns (total 7 columns):\n",
      " #   Column                     Non-Null Count  Dtype  \n",
      "---  ------                     --------------  -----  \n",
      " 0   Region                     740 non-null    object \n",
      " 1   Date                       740 non-null    object \n",
      " 2   Frequency                  740 non-null    object \n",
      " 3   Unemployment_Rate          740 non-null    float64\n",
      " 4   Employed                   740 non-null    float64\n",
      " 5   Labour_Participation_Rate  740 non-null    float64\n",
      " 6   Area                       740 non-null    object \n",
      "dtypes: float64(3), object(4)\n",
      "memory usage: 42.1+ KB\n"
     ]
    }
   ],
   "source": [
    "dfu.info()\n"
   ]
  },
  {
   "cell_type": "code",
   "execution_count": 14,
   "metadata": {},
   "outputs": [
    {
     "data": {
      "application/vnd.microsoft.datawrangler.viewer.v0+json": {
       "columns": [
        {
         "name": "index",
         "rawType": "object",
         "type": "string"
        },
        {
         "name": "Unemployment_Rate",
         "rawType": "float64",
         "type": "float"
        },
        {
         "name": "Employed",
         "rawType": "float64",
         "type": "float"
        },
        {
         "name": "Labour_Participation_Rate",
         "rawType": "float64",
         "type": "float"
        }
       ],
       "conversionMethod": "pd.DataFrame",
       "ref": "80bbc419-036a-49b3-82c2-d380d1185b52",
       "rows": [
        [
         "count",
         "740.0",
         "740.0",
         "740.0"
        ],
        [
         "mean",
         "11.787945945945946",
         "7204460.025675676",
         "42.630121621621626"
        ],
        [
         "std",
         "10.721298373157783",
         "8087988.4294577865",
         "8.111094365865872"
        ],
        [
         "min",
         "0.0",
         "49420.0",
         "13.33"
        ],
        [
         "25%",
         "4.657500000000001",
         "1190404.5",
         "38.0625"
        ],
        [
         "50%",
         "8.35",
         "4744178.5",
         "41.16"
        ],
        [
         "75%",
         "15.887500000000001",
         "11275489.5",
         "45.505"
        ],
        [
         "max",
         "76.74",
         "45777509.0",
         "72.57"
        ]
       ],
       "shape": {
        "columns": 3,
        "rows": 8
       }
      },
      "text/html": [
       "<div>\n",
       "<style scoped>\n",
       "    .dataframe tbody tr th:only-of-type {\n",
       "        vertical-align: middle;\n",
       "    }\n",
       "\n",
       "    .dataframe tbody tr th {\n",
       "        vertical-align: top;\n",
       "    }\n",
       "\n",
       "    .dataframe thead th {\n",
       "        text-align: right;\n",
       "    }\n",
       "</style>\n",
       "<table border=\"1\" class=\"dataframe\">\n",
       "  <thead>\n",
       "    <tr style=\"text-align: right;\">\n",
       "      <th></th>\n",
       "      <th>Unemployment_Rate</th>\n",
       "      <th>Employed</th>\n",
       "      <th>Labour_Participation_Rate</th>\n",
       "    </tr>\n",
       "  </thead>\n",
       "  <tbody>\n",
       "    <tr>\n",
       "      <th>count</th>\n",
       "      <td>740.00</td>\n",
       "      <td>740.00</td>\n",
       "      <td>740.00</td>\n",
       "    </tr>\n",
       "    <tr>\n",
       "      <th>mean</th>\n",
       "      <td>11.79</td>\n",
       "      <td>7204460.03</td>\n",
       "      <td>42.63</td>\n",
       "    </tr>\n",
       "    <tr>\n",
       "      <th>std</th>\n",
       "      <td>10.72</td>\n",
       "      <td>8087988.43</td>\n",
       "      <td>8.11</td>\n",
       "    </tr>\n",
       "    <tr>\n",
       "      <th>min</th>\n",
       "      <td>0.00</td>\n",
       "      <td>49420.00</td>\n",
       "      <td>13.33</td>\n",
       "    </tr>\n",
       "    <tr>\n",
       "      <th>25%</th>\n",
       "      <td>4.66</td>\n",
       "      <td>1190404.50</td>\n",
       "      <td>38.06</td>\n",
       "    </tr>\n",
       "    <tr>\n",
       "      <th>50%</th>\n",
       "      <td>8.35</td>\n",
       "      <td>4744178.50</td>\n",
       "      <td>41.16</td>\n",
       "    </tr>\n",
       "    <tr>\n",
       "      <th>75%</th>\n",
       "      <td>15.89</td>\n",
       "      <td>11275489.50</td>\n",
       "      <td>45.51</td>\n",
       "    </tr>\n",
       "    <tr>\n",
       "      <th>max</th>\n",
       "      <td>76.74</td>\n",
       "      <td>45777509.00</td>\n",
       "      <td>72.57</td>\n",
       "    </tr>\n",
       "  </tbody>\n",
       "</table>\n",
       "</div>"
      ],
      "text/plain": [
       "       Unemployment_Rate    Employed  Labour_Participation_Rate\n",
       "count             740.00      740.00                     740.00\n",
       "mean               11.79  7204460.03                      42.63\n",
       "std                10.72  8087988.43                       8.11\n",
       "min                 0.00    49420.00                      13.33\n",
       "25%                 4.66  1190404.50                      38.06\n",
       "50%                 8.35  4744178.50                      41.16\n",
       "75%                15.89 11275489.50                      45.51\n",
       "max                76.74 45777509.00                      72.57"
      ]
     },
     "execution_count": 14,
     "metadata": {},
     "output_type": "execute_result"
    }
   ],
   "source": [
    "# setting display format of floating point numbers\n",
    "pd.options.display.float_format = '{:.2f}'.format\n",
    "\n",
    "# Display the data and describe the data\n",
    "dfu.describe()\n",
    "\n"
   ]
  },
  {
   "cell_type": "code",
   "execution_count": 15,
   "metadata": {},
   "outputs": [
    {
     "name": "stdout",
     "output_type": "stream",
     "text": [
      "missing values\n",
      "\n",
      "Region                       28\n",
      "Date                         28\n",
      "Frequency                    28\n",
      "Unemployment_Rate            28\n",
      "Employed                     28\n",
      "Labour_Participation_Rate    28\n",
      "Area                         28\n",
      "dtype: int64 \n",
      "\n",
      "\n",
      "percentage of missing values\n",
      "\n",
      "Region                       4%\n",
      "Date                         4%\n",
      "Frequency                    4%\n",
      "Unemployment_Rate            4%\n",
      "Employed                     4%\n",
      "Labour_Participation_Rate    4%\n",
      "Area                         4%\n",
      "dtype: object\n"
     ]
    }
   ],
   "source": [
    "# Handling Missing Values\n",
    "\n",
    "# Check for missing values\n",
    "missing_values = dfu.isnull().sum()\n",
    "\n",
    "# Find the percentage of missing values in each column\n",
    "missing_percentage = (missing_values /\n",
    "                      len(dfu)) * 100  \n",
    "\n",
    "# display the missing values and their percentage\n",
    "print('missing values\\n')\n",
    "print(missing_values, '\\n\\n')\n",
    "\n",
    "print('percentage of missing values\\n')\n",
    "print(missing_percentage.apply(lambda x: f'{x:.0f}%'))\n",
    "\n",
    "\n"
   ]
  },
  {
   "cell_type": "code",
   "execution_count": 16,
   "metadata": {},
   "outputs": [
    {
     "data": {
      "image/png": "[encoded data removed]",
      "text/plain": [
       "<Figure size 1000x500 with 1 Axes>"
      ]
     },
     "metadata": {},
     "output_type": "display_data"
    }
   ],
   "source": [
    "# Plot the missing values with percentage in a bar chart\n",
    "plt.figure(figsize=(10, 5))\n",
    "sns.barplot(x=dfu.columns, y=missing_percentage, palette='viridis')\n",
    "plt.title('Percentage of Missing Values in Each Column')\n",
    "plt.ylabel('Percentage')\n",
    "plt.xlabel('Columns')\n",
    "plt.xticks(rotation=45)\n",
    "plt.show()\n",
    "\n",
    "\n"
   ]
  },
  {
   "cell_type": "code",
   "execution_count": 17,
   "metadata": {},
   "outputs": [
    {
     "name": "stdout",
     "output_type": "stream",
     "text": [
      "Missing values after filling\n",
      "\n",
      "Missing Data is less than 5% so we can impute the missing values\n"
     ]
    },
    {
     "data": {
      "text/plain": [
       "Region                       0\n",
       "Date                         0\n",
       "Frequency                    0\n",
       "Unemployment_Rate            0\n",
       "Employed                     0\n",
       "Labour_Participation_Rate    0\n",
       "Area                         0\n",
       "dtype: int64"
      ]
     },
     "execution_count": 17,
     "metadata": {},
     "output_type": "execute_result"
    }
   ],
   "source": [
    "# Fill the missing values with the mean of the column\n",
    "dfu['Unemployment_Rate'].fillna(dfu['Unemployment_Rate'].mean(), inplace=True)\n",
    "dfu['Employed'].fillna(dfu['Employed'].mean(), inplace=True)\n",
    "dfu['Labour_Participation_Rate'].fillna(dfu['Labour_Participation_Rate'].mean(), inplace=True)\n",
    "\n",
    "# Fill missing values with mode for categorical columns\n",
    "dfu['Region'].fillna(dfu['Region'].mode()[0], inplace=True)\n",
    "dfu['Date'].fillna(dfu['Date'].mode()[0], inplace=True)\n",
    "dfu['Frequency'].fillna(dfu['Frequency'].mode()[0], inplace=True)\n",
    "dfu['Area'].fillna(dfu['Area'].mode()[0], inplace=True)\n",
    "\n",
    "# Display the values \n",
    "print('Missing values after filling\\n')\n",
    "print('Missing Data is less than 5% so we can impute the missing values')\n",
    "\n",
    "dfu.isnull().sum()\n"
   ]
  },
  {
   "cell_type": "code",
   "execution_count": 18,
   "metadata": {},
   "outputs": [
    {
     "data": {
      "text/plain": [
       "Region                       0\n",
       "Date                         0\n",
       "Frequency                    0\n",
       "Unemployment_Rate            0\n",
       "Employed                     0\n",
       "Labour_Participation_Rate    0\n",
       "Area                         0\n",
       "dtype: int64"
      ]
     },
     "execution_count": 18,
     "metadata": {},
     "output_type": "execute_result"
    }
   ],
   "source": [
    "# rechecking missing values after imputation \n",
    "dfu.isna().sum()\n"
   ]
  },
  {
   "cell_type": "code",
   "execution_count": 19,
   "metadata": {},
   "outputs": [
    {
     "name": "stdout",
     "output_type": "stream",
     "text": [
      "Rows before dropping duplicate : 768\n",
      "Duplicate Rows : 27\n"
     ]
    }
   ],
   "source": [
    "# Duplicate Rows\n",
    "\n",
    "# Check for duplicate rows\n",
    "print(f'Rows before dropping duplicate : {dfu.shape[0]}')\n",
    "print(f'Duplicate Rows : {dfu.duplicated().sum()}')\n"
   ]
  },
  {
   "cell_type": "code",
   "execution_count": 20,
   "metadata": {},
   "outputs": [
    {
     "data": {
      "application/vnd.microsoft.datawrangler.viewer.v0+json": {
       "columns": [
        {
         "name": "index",
         "rawType": "int64",
         "type": "integer"
        },
        {
         "name": "Region",
         "rawType": "object",
         "type": "string"
        },
        {
         "name": "Date",
         "rawType": "object",
         "type": "string"
        },
        {
         "name": "Frequency",
         "rawType": "object",
         "type": "string"
        },
        {
         "name": "Unemployment_Rate",
         "rawType": "float64",
         "type": "float"
        },
        {
         "name": "Employed",
         "rawType": "float64",
         "type": "float"
        },
        {
         "name": "Labour_Participation_Rate",
         "rawType": "float64",
         "type": "float"
        },
        {
         "name": "Area",
         "rawType": "object",
         "type": "string"
        }
       ],
       "conversionMethod": "pd.DataFrame",
       "ref": "ada362ce-76aa-44bf-92a8-07f0e486e572",
       "rows": [
        [
         "360",
         "Andhra Pradesh",
         " 30-11-2019",
         "Monthly",
         "11.787945945945946",
         "7204460.025675676",
         "42.630121621621626",
         "Urban"
        ],
        [
         "361",
         "Andhra Pradesh",
         " 30-11-2019",
         "Monthly",
         "11.787945945945946",
         "7204460.025675676",
         "42.630121621621626",
         "Urban"
        ],
        [
         "362",
         "Andhra Pradesh",
         " 30-11-2019",
         "Monthly",
         "11.787945945945946",
         "7204460.025675676",
         "42.630121621621626",
         "Urban"
        ],
        [
         "363",
         "Andhra Pradesh",
         " 30-11-2019",
         "Monthly",
         "11.787945945945946",
         "7204460.025675676",
         "42.630121621621626",
         "Urban"
        ],
        [
         "364",
         "Andhra Pradesh",
         " 30-11-2019",
         "Monthly",
         "11.787945945945946",
         "7204460.025675676",
         "42.630121621621626",
         "Urban"
        ],
        [
         "365",
         "Andhra Pradesh",
         " 30-11-2019",
         "Monthly",
         "11.787945945945946",
         "7204460.025675676",
         "42.630121621621626",
         "Urban"
        ],
        [
         "366",
         "Andhra Pradesh",
         " 30-11-2019",
         "Monthly",
         "11.787945945945946",
         "7204460.025675676",
         "42.630121621621626",
         "Urban"
        ],
        [
         "367",
         "Andhra Pradesh",
         " 30-11-2019",
         "Monthly",
         "11.787945945945946",
         "7204460.025675676",
         "42.630121621621626",
         "Urban"
        ],
        [
         "368",
         "Andhra Pradesh",
         " 30-11-2019",
         "Monthly",
         "11.787945945945946",
         "7204460.025675676",
         "42.630121621621626",
         "Urban"
        ],
        [
         "369",
         "Andhra Pradesh",
         " 30-11-2019",
         "Monthly",
         "11.787945945945946",
         "7204460.025675676",
         "42.630121621621626",
         "Urban"
        ]
       ],
       "shape": {
        "columns": 7,
        "rows": 10
       }
      },
      "text/html": [
       "<div>\n",
       "<style scoped>\n",
       "    .dataframe tbody tr th:only-of-type {\n",
       "        vertical-align: middle;\n",
       "    }\n",
       "\n",
       "    .dataframe tbody tr th {\n",
       "        vertical-align: top;\n",
       "    }\n",
       "\n",
       "    .dataframe thead th {\n",
       "        text-align: right;\n",
       "    }\n",
       "</style>\n",
       "<table border=\"1\" class=\"dataframe\">\n",
       "  <thead>\n",
       "    <tr style=\"text-align: right;\">\n",
       "      <th></th>\n",
       "      <th>Region</th>\n",
       "      <th>Date</th>\n",
       "      <th>Frequency</th>\n",
       "      <th>Unemployment_Rate</th>\n",
       "      <th>Employed</th>\n",
       "      <th>Labour_Participation_Rate</th>\n",
       "      <th>Area</th>\n",
       "    </tr>\n",
       "  </thead>\n",
       "  <tbody>\n",
       "    <tr>\n",
       "      <th>360</th>\n",
       "      <td>Andhra Pradesh</td>\n",
       "      <td>30-11-2019</td>\n",
       "      <td>Monthly</td>\n",
       "      <td>11.79</td>\n",
       "      <td>7204460.03</td>\n",
       "      <td>42.63</td>\n",
       "      <td>Urban</td>\n",
       "    </tr>\n",
       "    <tr>\n",
       "      <th>361</th>\n",
       "      <td>Andhra Pradesh</td>\n",
       "      <td>30-11-2019</td>\n",
       "      <td>Monthly</td>\n",
       "      <td>11.79</td>\n",
       "      <td>7204460.03</td>\n",
       "      <td>42.63</td>\n",
       "      <td>Urban</td>\n",
       "    </tr>\n",
       "    <tr>\n",
       "      <th>362</th>\n",
       "      <td>Andhra Pradesh</td>\n",
       "      <td>30-11-2019</td>\n",
       "      <td>Monthly</td>\n",
       "      <td>11.79</td>\n",
       "      <td>7204460.03</td>\n",
       "      <td>42.63</td>\n",
       "      <td>Urban</td>\n",
       "    </tr>\n",
       "    <tr>\n",
       "      <th>363</th>\n",
       "      <td>Andhra Pradesh</td>\n",
       "      <td>30-11-2019</td>\n",
       "      <td>Monthly</td>\n",
       "      <td>11.79</td>\n",
       "      <td>7204460.03</td>\n",
       "      <td>42.63</td>\n",
       "      <td>Urban</td>\n",
       "    </tr>\n",
       "    <tr>\n",
       "      <th>364</th>\n",
       "      <td>Andhra Pradesh</td>\n",
       "      <td>30-11-2019</td>\n",
       "      <td>Monthly</td>\n",
       "      <td>11.79</td>\n",
       "      <td>7204460.03</td>\n",
       "      <td>42.63</td>\n",
       "      <td>Urban</td>\n",
       "    </tr>\n",
       "    <tr>\n",
       "      <th>365</th>\n",
       "      <td>Andhra Pradesh</td>\n",
       "      <td>30-11-2019</td>\n",
       "      <td>Monthly</td>\n",
       "      <td>11.79</td>\n",
       "      <td>7204460.03</td>\n",
       "      <td>42.63</td>\n",
       "      <td>Urban</td>\n",
       "    </tr>\n",
       "    <tr>\n",
       "      <th>366</th>\n",
       "      <td>Andhra Pradesh</td>\n",
       "      <td>30-11-2019</td>\n",
       "      <td>Monthly</td>\n",
       "      <td>11.79</td>\n",
       "      <td>7204460.03</td>\n",
       "      <td>42.63</td>\n",
       "      <td>Urban</td>\n",
       "    </tr>\n",
       "    <tr>\n",
       "      <th>367</th>\n",
       "      <td>Andhra Pradesh</td>\n",
       "      <td>30-11-2019</td>\n",
       "      <td>Monthly</td>\n",
       "      <td>11.79</td>\n",
       "      <td>7204460.03</td>\n",
       "      <td>42.63</td>\n",
       "      <td>Urban</td>\n",
       "    </tr>\n",
       "    <tr>\n",
       "      <th>368</th>\n",
       "      <td>Andhra Pradesh</td>\n",
       "      <td>30-11-2019</td>\n",
       "      <td>Monthly</td>\n",
       "      <td>11.79</td>\n",
       "      <td>7204460.03</td>\n",
       "      <td>42.63</td>\n",
       "      <td>Urban</td>\n",
       "    </tr>\n",
       "    <tr>\n",
       "      <th>369</th>\n",
       "      <td>Andhra Pradesh</td>\n",
       "      <td>30-11-2019</td>\n",
       "      <td>Monthly</td>\n",
       "      <td>11.79</td>\n",
       "      <td>7204460.03</td>\n",
       "      <td>42.63</td>\n",
       "      <td>Urban</td>\n",
       "    </tr>\n",
       "  </tbody>\n",
       "</table>\n",
       "</div>"
      ],
      "text/plain": [
       "             Region         Date Frequency  Unemployment_Rate   Employed  \\\n",
       "360  Andhra Pradesh   30-11-2019   Monthly              11.79 7204460.03   \n",
       "361  Andhra Pradesh   30-11-2019   Monthly              11.79 7204460.03   \n",
       "362  Andhra Pradesh   30-11-2019   Monthly              11.79 7204460.03   \n",
       "363  Andhra Pradesh   30-11-2019   Monthly              11.79 7204460.03   \n",
       "364  Andhra Pradesh   30-11-2019   Monthly              11.79 7204460.03   \n",
       "365  Andhra Pradesh   30-11-2019   Monthly              11.79 7204460.03   \n",
       "366  Andhra Pradesh   30-11-2019   Monthly              11.79 7204460.03   \n",
       "367  Andhra Pradesh   30-11-2019   Monthly              11.79 7204460.03   \n",
       "368  Andhra Pradesh   30-11-2019   Monthly              11.79 7204460.03   \n",
       "369  Andhra Pradesh   30-11-2019   Monthly              11.79 7204460.03   \n",
       "\n",
       "     Labour_Participation_Rate   Area  \n",
       "360                      42.63  Urban  \n",
       "361                      42.63  Urban  \n",
       "362                      42.63  Urban  \n",
       "363                      42.63  Urban  \n",
       "364                      42.63  Urban  \n",
       "365                      42.63  Urban  \n",
       "366                      42.63  Urban  \n",
       "367                      42.63  Urban  \n",
       "368                      42.63  Urban  \n",
       "369                      42.63  Urban  "
      ]
     },
     "execution_count": 20,
     "metadata": {},
     "output_type": "execute_result"
    }
   ],
   "source": [
    "# Display the duplicate rows\n",
    "duplicate_rows = dfu[dfu.duplicated()].head(10)\n",
    "duplicate_rows\n"
   ]
  },
  {
   "cell_type": "code",
   "execution_count": 21,
   "metadata": {},
   "outputs": [
    {
     "name": "stdout",
     "output_type": "stream",
     "text": [
      "Duplicate rows dropped \n",
      "\n",
      "Rows after dropping duplicate : 741\n"
     ]
    }
   ],
   "source": [
    "# Drop the duplicate rows\n",
    "dfu.drop_duplicates(inplace=True)\n",
    "\n",
    "print('Duplicate rows dropped \\n')\n",
    "print(f'Rows after dropping duplicate : {dfu.shape[0]}')\n"
   ]
  },
  {
   "cell_type": "code",
   "execution_count": 22,
   "metadata": {},
   "outputs": [
    {
     "data": {
      "image/png": "[encoded data removed]",
      "text/plain": [
       "<Figure size 1500x500 with 3 Axes>"
      ]
     },
     "metadata": {},
     "output_type": "display_data"
    }
   ],
   "source": [
    "# Outliers\n",
    "\n",
    "# Set up the figure with row and columns\n",
    "fig, axes = plt.subplots(1, 3, figsize=(15, 5), constrained_layout=True)\n",
    "\n",
    "# Creating individual plots\n",
    "sns.boxplot(ax=axes[0], y=dfu['Unemployment_Rate'], color='orange')\n",
    "axes[0].set_title('Unemployment Rate')\n",
    "axes[0].set_ylabel('')\n",
    "\n",
    "sns.boxplot(ax=axes[1], y=dfu['Employed'], color='magenta')\n",
    "axes[1].set_title('Employed')\n",
    "axes[1].set_ylabel('')\n",
    "\n",
    "sns.boxplot(ax=axes[2], y=dfu['Labour_Participation_Rate'], color='cyan')\n",
    "axes[2].set_title('Labour Participation Rate')\n",
    "axes[2].set_ylabel('')\n",
    "\n",
    "# Common title for all the plots\n",
    "fig.suptitle('Boxplot of Unemployment Rate', fontsize=16)\n",
    "\n",
    "# Display the plots\n",
    "plt.show()\n"
   ]
  },
  {
   "cell_type": "code",
   "execution_count": null,
   "metadata": {},
   "outputs": [],
   "source": []
  }
 ],
 "metadata": {
  "kernelspec": {
   "display_name": ".conda",
   "language": "python",
   "name": "python3"
  },
  "language_info": {
   "codemirror_mode": {
    "name": "ipython",
    "version": 3
   },
   "file_extension": ".py",
   "mimetype": "text/x-python",
   "name": "python",
   "nbconvert_exporter": "python",
   "pygments_lexer": "ipython3",
   "version": "3.8.18"
  }
 },
 "nbformat": 4,
 "nbformat_minor": 2
}

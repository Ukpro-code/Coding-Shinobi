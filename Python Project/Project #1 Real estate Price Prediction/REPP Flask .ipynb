{
 "cells": [
  {
   "cell_type": "code",
   "execution_count": 1,
   "metadata": {},
   "outputs": [
    {
     "name": "stdout",
     "output_type": "stream",
     "text": [
      "Requirement already satisfied: flask in c:\\users\\user\\anaconda3\\envs\\.conda\\lib\\site-packages (3.0.3)\n",
      "Collecting flask-cors\n",
      "  Downloading Flask_Cors-5.0.0-py2.py3-none-any.whl.metadata (5.5 kB)\n",
      "Collecting flask-restful\n",
      "  Downloading Flask_RESTful-0.3.10-py2.py3-none-any.whl.metadata (1.0 kB)\n",
      "Collecting flask-jwt-extended\n",
      "  Downloading Flask_JWT_Extended-4.6.0-py2.py3-none-any.whl.metadata (3.9 kB)\n",
      "Requirement already satisfied: Werkzeug>=3.0.0 in c:\\users\\user\\anaconda3\\envs\\.conda\\lib\\site-packages (from flask) (3.0.3)\n",
      "Requirement already satisfied: Jinja2>=3.1.2 in c:\\users\\user\\anaconda3\\envs\\.conda\\lib\\site-packages (from flask) (3.1.5)\n",
      "Requirement already satisfied: itsdangerous>=2.1.2 in c:\\users\\user\\anaconda3\\envs\\.conda\\lib\\site-packages (from flask) (2.2.0)\n",
      "Requirement already satisfied: click>=8.1.3 in c:\\users\\user\\anaconda3\\envs\\.conda\\lib\\site-packages (from flask) (8.1.7)\n",
      "Requirement already satisfied: blinker>=1.6.2 in c:\\users\\user\\anaconda3\\envs\\.conda\\lib\\site-packages (from flask) (1.6.2)\n",
      "Requirement already satisfied: importlib-metadata>=3.6.0 in c:\\users\\user\\anaconda3\\envs\\.conda\\lib\\site-packages (from flask) (7.0.1)\n",
      "Collecting aniso8601>=0.82 (from flask-restful)\n",
      "  Downloading aniso8601-10.0.0-py2.py3-none-any.whl.metadata (23 kB)\n",
      "Requirement already satisfied: six>=1.3.0 in c:\\users\\user\\anaconda3\\envs\\.conda\\lib\\site-packages (from flask-restful) (1.16.0)\n",
      "Requirement already satisfied: pytz in c:\\users\\user\\anaconda3\\envs\\.conda\\lib\\site-packages (from flask-restful) (2024.1)\n",
      "Requirement already satisfied: PyJWT<3.0,>=2.0 in c:\\users\\user\\anaconda3\\envs\\.conda\\lib\\site-packages (from flask-jwt-extended) (2.8.0)\n",
      "Requirement already satisfied: colorama in c:\\users\\user\\anaconda3\\envs\\.conda\\lib\\site-packages (from click>=8.1.3->flask) (0.4.6)\n",
      "Requirement already satisfied: zipp>=0.5 in c:\\users\\user\\anaconda3\\envs\\.conda\\lib\\site-packages (from importlib-metadata>=3.6.0->flask) (3.20.2)\n",
      "Requirement already satisfied: MarkupSafe>=2.0 in c:\\users\\user\\anaconda3\\envs\\.conda\\lib\\site-packages (from Jinja2>=3.1.2->flask) (2.1.3)\n",
      "Downloading Flask_Cors-5.0.0-py2.py3-none-any.whl (14 kB)\n",
      "Downloading Flask_RESTful-0.3.10-py2.py3-none-any.whl (26 kB)\n",
      "Downloading Flask_JWT_Extended-4.6.0-py2.py3-none-any.whl (22 kB)\n",
      "Downloading aniso8601-10.0.0-py2.py3-none-any.whl (52 kB)\n",
      "Installing collected packages: aniso8601, flask-restful, flask-jwt-extended, flask-cors\n",
      "Successfully installed aniso8601-10.0.0 flask-cors-5.0.0 flask-jwt-extended-4.6.0 flask-restful-0.3.10\n",
      "Note: you may need to restart the kernel to use updated packages.\n"
     ]
    }
   ],
   "source": [
    "pip install flask flask-cors flask-restful flask-jwt-extended "
   ]
  },
  {
   "cell_type": "code",
   "execution_count": null,
   "metadata": {},
   "outputs": [],
   "source": []
  }
 ],
 "metadata": {
  "kernelspec": {
   "display_name": ".conda",
   "language": "python",
   "name": "python3"
  },
  "language_info": {
   "codemirror_mode": {
    "name": "ipython",
    "version": 3
   },
   "file_extension": ".py",
   "mimetype": "text/x-python",
   "name": "python",
   "nbconvert_exporter": "python",
   "pygments_lexer": "ipython3",
   "version": "3.8.18"
  }
 },
 "nbformat": 4,
 "nbformat_minor": 2
}

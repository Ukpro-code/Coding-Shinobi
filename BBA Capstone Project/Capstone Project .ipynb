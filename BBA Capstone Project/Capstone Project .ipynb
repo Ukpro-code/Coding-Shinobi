{
 "cells": [
  {
   "cell_type": "code",
   "execution_count": 1,
   "id": "7d063e4e-52c1-438d-b5e6-6d34b94287d8",
   "metadata": {},
   "outputs": [
    {
     "name": "stdout",
     "output_type": "stream",
     "text": [
      "Defaulting to user installation because normal site-packages is not writeable\n",
      "Looking in links: /usr/share/pip-wheels\n",
      "Requirement already satisfied: pandas in /opt/conda/envs/anaconda-ai-2024.04-py310/lib/python3.10/site-packages (2.1.4)\n",
      "Requirement already satisfied: numpy<2,>=1.22.4 in /opt/conda/envs/anaconda-ai-2024.04-py310/lib/python3.10/site-packages (from pandas) (1.26.4)\n",
      "Requirement already satisfied: python-dateutil>=2.8.2 in /opt/conda/envs/anaconda-ai-2024.04-py310/lib/python3.10/site-packages (from pandas) (2.8.2)\n",
      "Requirement already satisfied: pytz>=2020.1 in /opt/conda/envs/anaconda-ai-2024.04-py310/lib/python3.10/site-packages (from pandas) (2023.3.post1)\n",
      "Requirement already satisfied: tzdata>=2022.1 in /opt/conda/envs/anaconda-ai-2024.04-py310/lib/python3.10/site-packages (from pandas) (2023.3)\n",
      "Requirement already satisfied: six>=1.5 in /opt/conda/envs/anaconda-ai-2024.04-py310/lib/python3.10/site-packages (from python-dateutil>=2.8.2->pandas) (1.16.0)\n",
      "Note: you may need to restart the kernel to use updated packages.\n"
     ]
    }
   ],
   "source": [
    "pip install pandas"
   ]
  },
  {
   "cell_type": "code",
   "execution_count": 3,
   "id": "3b94523a-5149-4bb7-9135-76f18111f301",
   "metadata": {},
   "outputs": [],
   "source": [
    "import pandas"
   ]
  },
  {
   "cell_type": "code",
   "execution_count": 5,
   "id": "155422d6-3235-426d-9f63-f89b4a8a6ebf",
   "metadata": {},
   "outputs": [],
   "source": [
    "import pandas as pd \n",
    "import numpy as np \n",
    "import seaborn as sns\n",
    "import matplotlib \n",
    "from matplotlib import pyplot as plt "
   ]
  },
  {
   "cell_type": "code",
   "execution_count": 6,
   "id": "98b769c7-ce10-4c71-853e-44265e056577",
   "metadata": {},
   "outputs": [],
   "source": [
    "data = pd.read_excel(\"Customer+Churn+Data.xlsx\")"
   ]
  },
  {
   "cell_type": "code",
   "execution_count": 7,
   "id": "adee2684-58a7-4ae0-b1ce-a81102d555c5",
   "metadata": {
    "scrolled": true
   },
   "outputs": [
    {
     "data": {
      "text/html": [
       "<div>\n",
       "<style scoped>\n",
       "    .dataframe tbody tr th:only-of-type {\n",
       "        vertical-align: middle;\n",
       "    }\n",
       "\n",
       "    .dataframe tbody tr th {\n",
       "        vertical-align: top;\n",
       "    }\n",
       "\n",
       "    .dataframe thead th {\n",
       "        text-align: right;\n",
       "    }\n",
       "</style>\n",
       "<table border=\"1\" class=\"dataframe\">\n",
       "  <thead>\n",
       "    <tr style=\"text-align: right;\">\n",
       "      <th></th>\n",
       "      <th>AccountID</th>\n",
       "      <th>Churn</th>\n",
       "      <th>Tenure</th>\n",
       "      <th>City_Tier</th>\n",
       "      <th>CC_Contacted_LY</th>\n",
       "      <th>Payment</th>\n",
       "      <th>Gender</th>\n",
       "      <th>Service_Score</th>\n",
       "      <th>Account_user_count</th>\n",
       "      <th>account_segment</th>\n",
       "      <th>CC_Agent_Score</th>\n",
       "      <th>Marital_Status</th>\n",
       "      <th>rev_per_month</th>\n",
       "      <th>Complain_ly</th>\n",
       "      <th>rev_growth_yoy</th>\n",
       "      <th>coupon_used_for_payment</th>\n",
       "      <th>Day_Since_CC_connect</th>\n",
       "      <th>cashback</th>\n",
       "      <th>Login_device</th>\n",
       "    </tr>\n",
       "  </thead>\n",
       "  <tbody>\n",
       "    <tr>\n",
       "      <th>0</th>\n",
       "      <td>20000</td>\n",
       "      <td>1</td>\n",
       "      <td>4</td>\n",
       "      <td>3.0</td>\n",
       "      <td>6.0</td>\n",
       "      <td>Debit Card</td>\n",
       "      <td>Female</td>\n",
       "      <td>3.0</td>\n",
       "      <td>3</td>\n",
       "      <td>Super</td>\n",
       "      <td>2.0</td>\n",
       "      <td>Single</td>\n",
       "      <td>9</td>\n",
       "      <td>1.0</td>\n",
       "      <td>11</td>\n",
       "      <td>1</td>\n",
       "      <td>5</td>\n",
       "      <td>159.93</td>\n",
       "      <td>Mobile</td>\n",
       "    </tr>\n",
       "    <tr>\n",
       "      <th>1</th>\n",
       "      <td>20001</td>\n",
       "      <td>1</td>\n",
       "      <td>0</td>\n",
       "      <td>1.0</td>\n",
       "      <td>8.0</td>\n",
       "      <td>UPI</td>\n",
       "      <td>Male</td>\n",
       "      <td>3.0</td>\n",
       "      <td>4</td>\n",
       "      <td>Regular Plus</td>\n",
       "      <td>3.0</td>\n",
       "      <td>Single</td>\n",
       "      <td>7</td>\n",
       "      <td>1.0</td>\n",
       "      <td>15</td>\n",
       "      <td>0</td>\n",
       "      <td>0</td>\n",
       "      <td>120.9</td>\n",
       "      <td>Mobile</td>\n",
       "    </tr>\n",
       "    <tr>\n",
       "      <th>2</th>\n",
       "      <td>20002</td>\n",
       "      <td>1</td>\n",
       "      <td>0</td>\n",
       "      <td>1.0</td>\n",
       "      <td>30.0</td>\n",
       "      <td>Debit Card</td>\n",
       "      <td>Male</td>\n",
       "      <td>2.0</td>\n",
       "      <td>4</td>\n",
       "      <td>Regular Plus</td>\n",
       "      <td>3.0</td>\n",
       "      <td>Single</td>\n",
       "      <td>6</td>\n",
       "      <td>1.0</td>\n",
       "      <td>14</td>\n",
       "      <td>0</td>\n",
       "      <td>3</td>\n",
       "      <td>NaN</td>\n",
       "      <td>Mobile</td>\n",
       "    </tr>\n",
       "    <tr>\n",
       "      <th>3</th>\n",
       "      <td>20003</td>\n",
       "      <td>1</td>\n",
       "      <td>0</td>\n",
       "      <td>3.0</td>\n",
       "      <td>15.0</td>\n",
       "      <td>Debit Card</td>\n",
       "      <td>Male</td>\n",
       "      <td>2.0</td>\n",
       "      <td>4</td>\n",
       "      <td>Super</td>\n",
       "      <td>5.0</td>\n",
       "      <td>Single</td>\n",
       "      <td>8</td>\n",
       "      <td>0.0</td>\n",
       "      <td>23</td>\n",
       "      <td>0</td>\n",
       "      <td>3</td>\n",
       "      <td>134.07</td>\n",
       "      <td>Mobile</td>\n",
       "    </tr>\n",
       "    <tr>\n",
       "      <th>4</th>\n",
       "      <td>20004</td>\n",
       "      <td>1</td>\n",
       "      <td>0</td>\n",
       "      <td>1.0</td>\n",
       "      <td>12.0</td>\n",
       "      <td>Credit Card</td>\n",
       "      <td>Male</td>\n",
       "      <td>2.0</td>\n",
       "      <td>3</td>\n",
       "      <td>Regular Plus</td>\n",
       "      <td>5.0</td>\n",
       "      <td>Single</td>\n",
       "      <td>3</td>\n",
       "      <td>0.0</td>\n",
       "      <td>11</td>\n",
       "      <td>1</td>\n",
       "      <td>3</td>\n",
       "      <td>129.6</td>\n",
       "      <td>Mobile</td>\n",
       "    </tr>\n",
       "    <tr>\n",
       "      <th>...</th>\n",
       "      <td>...</td>\n",
       "      <td>...</td>\n",
       "      <td>...</td>\n",
       "      <td>...</td>\n",
       "      <td>...</td>\n",
       "      <td>...</td>\n",
       "      <td>...</td>\n",
       "      <td>...</td>\n",
       "      <td>...</td>\n",
       "      <td>...</td>\n",
       "      <td>...</td>\n",
       "      <td>...</td>\n",
       "      <td>...</td>\n",
       "      <td>...</td>\n",
       "      <td>...</td>\n",
       "      <td>...</td>\n",
       "      <td>...</td>\n",
       "      <td>...</td>\n",
       "      <td>...</td>\n",
       "    </tr>\n",
       "    <tr>\n",
       "      <th>11255</th>\n",
       "      <td>31255</td>\n",
       "      <td>0</td>\n",
       "      <td>10</td>\n",
       "      <td>1.0</td>\n",
       "      <td>34.0</td>\n",
       "      <td>Credit Card</td>\n",
       "      <td>Male</td>\n",
       "      <td>3.0</td>\n",
       "      <td>2</td>\n",
       "      <td>Super</td>\n",
       "      <td>1.0</td>\n",
       "      <td>Married</td>\n",
       "      <td>9</td>\n",
       "      <td>0.0</td>\n",
       "      <td>19</td>\n",
       "      <td>1</td>\n",
       "      <td>4</td>\n",
       "      <td>153.71</td>\n",
       "      <td>Computer</td>\n",
       "    </tr>\n",
       "    <tr>\n",
       "      <th>11256</th>\n",
       "      <td>31256</td>\n",
       "      <td>0</td>\n",
       "      <td>13</td>\n",
       "      <td>1.0</td>\n",
       "      <td>19.0</td>\n",
       "      <td>Credit Card</td>\n",
       "      <td>Male</td>\n",
       "      <td>3.0</td>\n",
       "      <td>5</td>\n",
       "      <td>HNI</td>\n",
       "      <td>5.0</td>\n",
       "      <td>Married</td>\n",
       "      <td>7</td>\n",
       "      <td>0.0</td>\n",
       "      <td>16</td>\n",
       "      <td>1</td>\n",
       "      <td>8</td>\n",
       "      <td>226.91</td>\n",
       "      <td>Mobile</td>\n",
       "    </tr>\n",
       "    <tr>\n",
       "      <th>11257</th>\n",
       "      <td>31257</td>\n",
       "      <td>0</td>\n",
       "      <td>1</td>\n",
       "      <td>1.0</td>\n",
       "      <td>14.0</td>\n",
       "      <td>Debit Card</td>\n",
       "      <td>Male</td>\n",
       "      <td>3.0</td>\n",
       "      <td>2</td>\n",
       "      <td>Super</td>\n",
       "      <td>4.0</td>\n",
       "      <td>Married</td>\n",
       "      <td>7</td>\n",
       "      <td>1.0</td>\n",
       "      <td>22</td>\n",
       "      <td>1</td>\n",
       "      <td>4</td>\n",
       "      <td>191.42</td>\n",
       "      <td>Mobile</td>\n",
       "    </tr>\n",
       "    <tr>\n",
       "      <th>11258</th>\n",
       "      <td>31258</td>\n",
       "      <td>0</td>\n",
       "      <td>23</td>\n",
       "      <td>3.0</td>\n",
       "      <td>11.0</td>\n",
       "      <td>Credit Card</td>\n",
       "      <td>Male</td>\n",
       "      <td>4.0</td>\n",
       "      <td>5</td>\n",
       "      <td>Super</td>\n",
       "      <td>4.0</td>\n",
       "      <td>Married</td>\n",
       "      <td>7</td>\n",
       "      <td>0.0</td>\n",
       "      <td>16</td>\n",
       "      <td>2</td>\n",
       "      <td>9</td>\n",
       "      <td>179.9</td>\n",
       "      <td>Computer</td>\n",
       "    </tr>\n",
       "    <tr>\n",
       "      <th>11259</th>\n",
       "      <td>31259</td>\n",
       "      <td>0</td>\n",
       "      <td>8</td>\n",
       "      <td>1.0</td>\n",
       "      <td>22.0</td>\n",
       "      <td>Credit Card</td>\n",
       "      <td>Male</td>\n",
       "      <td>3.0</td>\n",
       "      <td>2</td>\n",
       "      <td>Super</td>\n",
       "      <td>3.0</td>\n",
       "      <td>Married</td>\n",
       "      <td>5</td>\n",
       "      <td>0.0</td>\n",
       "      <td>13</td>\n",
       "      <td>2</td>\n",
       "      <td>3</td>\n",
       "      <td>175.04</td>\n",
       "      <td>Mobile</td>\n",
       "    </tr>\n",
       "  </tbody>\n",
       "</table>\n",
       "<p>11260 rows × 19 columns</p>\n",
       "</div>"
      ],
      "text/plain": [
       "       AccountID  Churn Tenure  City_Tier  CC_Contacted_LY      Payment  \\\n",
       "0          20000      1      4        3.0              6.0   Debit Card   \n",
       "1          20001      1      0        1.0              8.0          UPI   \n",
       "2          20002      1      0        1.0             30.0   Debit Card   \n",
       "3          20003      1      0        3.0             15.0   Debit Card   \n",
       "4          20004      1      0        1.0             12.0  Credit Card   \n",
       "...          ...    ...    ...        ...              ...          ...   \n",
       "11255      31255      0     10        1.0             34.0  Credit Card   \n",
       "11256      31256      0     13        1.0             19.0  Credit Card   \n",
       "11257      31257      0      1        1.0             14.0   Debit Card   \n",
       "11258      31258      0     23        3.0             11.0  Credit Card   \n",
       "11259      31259      0      8        1.0             22.0  Credit Card   \n",
       "\n",
       "       Gender  Service_Score Account_user_count account_segment  \\\n",
       "0      Female            3.0                  3           Super   \n",
       "1        Male            3.0                  4    Regular Plus   \n",
       "2        Male            2.0                  4    Regular Plus   \n",
       "3        Male            2.0                  4           Super   \n",
       "4        Male            2.0                  3    Regular Plus   \n",
       "...       ...            ...                ...             ...   \n",
       "11255    Male            3.0                  2           Super   \n",
       "11256    Male            3.0                  5             HNI   \n",
       "11257    Male            3.0                  2           Super   \n",
       "11258    Male            4.0                  5           Super   \n",
       "11259    Male            3.0                  2           Super   \n",
       "\n",
       "       CC_Agent_Score Marital_Status rev_per_month  Complain_ly  \\\n",
       "0                 2.0         Single             9          1.0   \n",
       "1                 3.0         Single             7          1.0   \n",
       "2                 3.0         Single             6          1.0   \n",
       "3                 5.0         Single             8          0.0   \n",
       "4                 5.0         Single             3          0.0   \n",
       "...               ...            ...           ...          ...   \n",
       "11255             1.0        Married             9          0.0   \n",
       "11256             5.0        Married             7          0.0   \n",
       "11257             4.0        Married             7          1.0   \n",
       "11258             4.0        Married             7          0.0   \n",
       "11259             3.0        Married             5          0.0   \n",
       "\n",
       "      rev_growth_yoy coupon_used_for_payment Day_Since_CC_connect cashback  \\\n",
       "0                 11                       1                    5   159.93   \n",
       "1                 15                       0                    0    120.9   \n",
       "2                 14                       0                    3      NaN   \n",
       "3                 23                       0                    3   134.07   \n",
       "4                 11                       1                    3    129.6   \n",
       "...              ...                     ...                  ...      ...   \n",
       "11255             19                       1                    4   153.71   \n",
       "11256             16                       1                    8   226.91   \n",
       "11257             22                       1                    4   191.42   \n",
       "11258             16                       2                    9    179.9   \n",
       "11259             13                       2                    3   175.04   \n",
       "\n",
       "      Login_device  \n",
       "0           Mobile  \n",
       "1           Mobile  \n",
       "2           Mobile  \n",
       "3           Mobile  \n",
       "4           Mobile  \n",
       "...            ...  \n",
       "11255     Computer  \n",
       "11256       Mobile  \n",
       "11257       Mobile  \n",
       "11258     Computer  \n",
       "11259       Mobile  \n",
       "\n",
       "[11260 rows x 19 columns]"
      ]
     },
     "execution_count": 7,
     "metadata": {},
     "output_type": "execute_result"
    }
   ],
   "source": [
    "data"
   ]
  },
  {
   "cell_type": "code",
   "execution_count": 8,
   "id": "3b14fe78-bf78-4a4e-9817-a26ead29207e",
   "metadata": {},
   "outputs": [
    {
     "data": {
      "text/plain": [
       "(11260, 19)"
      ]
     },
     "execution_count": 8,
     "metadata": {},
     "output_type": "execute_result"
    }
   ],
   "source": [
    "data.shape"
   ]
  },
  {
   "cell_type": "code",
   "execution_count": 9,
   "id": "a284a734-d92d-4531-9e00-9b67bafdac5d",
   "metadata": {},
   "outputs": [
    {
     "data": {
      "text/plain": [
       "Churn\n",
       "0    9364\n",
       "1    1896\n",
       "Name: count, dtype: int64"
      ]
     },
     "execution_count": 9,
     "metadata": {},
     "output_type": "execute_result"
    }
   ],
   "source": [
    "data['Churn'].value_counts()"
   ]
  },
  {
   "cell_type": "code",
   "execution_count": 10,
   "id": "fff17fa6-dec6-4715-b919-7ec89fc9338e",
   "metadata": {
    "scrolled": true
   },
   "outputs": [
    {
     "name": "stdout",
     "output_type": "stream",
     "text": [
      "<class 'pandas.core.frame.DataFrame'>\n",
      "RangeIndex: 11260 entries, 0 to 11259\n",
      "Data columns (total 19 columns):\n",
      " #   Column                   Non-Null Count  Dtype  \n",
      "---  ------                   --------------  -----  \n",
      " 0   AccountID                11260 non-null  int64  \n",
      " 1   Churn                    11260 non-null  int64  \n",
      " 2   Tenure                   11158 non-null  object \n",
      " 3   City_Tier                11148 non-null  float64\n",
      " 4   CC_Contacted_LY          11158 non-null  float64\n",
      " 5   Payment                  11151 non-null  object \n",
      " 6   Gender                   11152 non-null  object \n",
      " 7   Service_Score            11162 non-null  float64\n",
      " 8   Account_user_count       11148 non-null  object \n",
      " 9   account_segment          11163 non-null  object \n",
      " 10  CC_Agent_Score           11144 non-null  float64\n",
      " 11  Marital_Status           11048 non-null  object \n",
      " 12  rev_per_month            11158 non-null  object \n",
      " 13  Complain_ly              10903 non-null  float64\n",
      " 14  rev_growth_yoy           11260 non-null  object \n",
      " 15  coupon_used_for_payment  11260 non-null  object \n",
      " 16  Day_Since_CC_connect     10903 non-null  object \n",
      " 17  cashback                 10789 non-null  object \n",
      " 18  Login_device             11039 non-null  object \n",
      "dtypes: float64(5), int64(2), object(12)\n",
      "memory usage: 1.6+ MB\n"
     ]
    }
   ],
   "source": [
    "data.info()"
   ]
  },
  {
   "cell_type": "code",
   "execution_count": 11,
   "id": "941c0b6d-a287-45f2-a761-73db14260c8a",
   "metadata": {},
   "outputs": [
    {
     "data": {
      "text/plain": [
       "count     11158.0\n",
       "unique       38.0\n",
       "top           1.0\n",
       "freq       1351.0\n",
       "mean          NaN\n",
       "std           NaN\n",
       "min           NaN\n",
       "25%           NaN\n",
       "50%           NaN\n",
       "75%           NaN\n",
       "max           NaN\n",
       "Name: Tenure, dtype: float64"
      ]
     },
     "execution_count": 11,
     "metadata": {},
     "output_type": "execute_result"
    }
   ],
   "source": [
    "data.describe(include=\"all\")[\"Tenure\"]"
   ]
  },
  {
   "cell_type": "code",
   "execution_count": 12,
   "id": "3c0d1f06-61b2-4996-825e-494e923eb521",
   "metadata": {},
   "outputs": [
    {
     "data": {
      "text/plain": [
       "array([4, 0, 2, 13, 11, '#', 9, 99, 19, 20, 14, 8, 26, 18, 5, 30, 7, 1,\n",
       "       23, 3, 29, 6, 28, 24, 25, 16, 10, 15, 22, nan, 27, 12, 21, 17, 50,\n",
       "       60, 31, 51, 61], dtype=object)"
      ]
     },
     "execution_count": 12,
     "metadata": {},
     "output_type": "execute_result"
    }
   ],
   "source": [
    "data.Tenure.unique()"
   ]
  },
  {
   "cell_type": "code",
   "execution_count": 13,
   "id": "cd6cb28c-5278-43c1-8492-07acba18f73a",
   "metadata": {},
   "outputs": [
    {
     "data": {
      "text/plain": [
       "count     11260.000000\n",
       "unique             NaN\n",
       "top                NaN\n",
       "freq               NaN\n",
       "mean         10.811634\n",
       "std          12.844640\n",
       "min           0.000000\n",
       "25%           2.000000\n",
       "50%           8.000000\n",
       "75%          16.000000\n",
       "max          99.000000\n",
       "Name: Tenure, dtype: float64"
      ]
     },
     "execution_count": 13,
     "metadata": {},
     "output_type": "execute_result"
    }
   ],
   "source": [
    "import numpy as np  # Import numpy to use NaN\n",
    "\n",
    "data[\"Tenure\"] = data[\"Tenure\"].apply(lambda x: str(x).replace(\"#\", \"0\"))  # Convert to string before replacing\n",
    "data[\"Tenure\"] = data[\"Tenure\"].apply(lambda x: str(x).replace(\"nan\", \"0\"))\n",
    "\n",
    "data[\"Tenure\"] = data[\"Tenure\"].astype(\"float\")  # Convert to float after replacing\n",
    "data.describe(include=\"all\")[\"Tenure\"]  # Get the description of the \"Tenure\" column"
   ]
  },
  {
   "cell_type": "code",
   "execution_count": 14,
   "id": "fa04c576-0ba8-4bfd-8850-7aefceb939e1",
   "metadata": {},
   "outputs": [
    {
     "data": {
      "text/plain": [
       "Tenure\n",
       "0.0     1449\n",
       "1.0     1351\n",
       "2.0      354\n",
       "3.0      410\n",
       "4.0      403\n",
       "5.0      403\n",
       "6.0      363\n",
       "7.0      450\n",
       "8.0      519\n",
       "9.0      496\n",
       "10.0     423\n",
       "11.0     388\n",
       "12.0     360\n",
       "13.0     359\n",
       "14.0     345\n",
       "15.0     311\n",
       "16.0     291\n",
       "17.0     215\n",
       "18.0     253\n",
       "19.0     273\n",
       "20.0     217\n",
       "21.0     170\n",
       "22.0     151\n",
       "23.0     169\n",
       "24.0     147\n",
       "25.0     114\n",
       "26.0     122\n",
       "27.0     131\n",
       "28.0     137\n",
       "29.0     114\n",
       "30.0     137\n",
       "31.0      96\n",
       "50.0       2\n",
       "51.0       2\n",
       "60.0       2\n",
       "61.0       2\n",
       "99.0     131\n",
       "Name: count, dtype: int64"
      ]
     },
     "execution_count": 14,
     "metadata": {},
     "output_type": "execute_result"
    }
   ],
   "source": [
    "data[\"Tenure\"].value_counts().sort_index()"
   ]
  },
  {
   "cell_type": "code",
   "execution_count": 16,
   "id": "a135e0c7-ce89-41d6-961b-ebb1024f02a1",
   "metadata": {},
   "outputs": [
    {
     "data": {
      "text/plain": [
       "count     11260.000000\n",
       "unique             NaN\n",
       "top                NaN\n",
       "freq               NaN\n",
       "mean          0.168384\n",
       "std           0.374223\n",
       "min           0.000000\n",
       "25%           0.000000\n",
       "50%           0.000000\n",
       "75%           0.000000\n",
       "max           1.000000\n",
       "Name: Churn, dtype: float64"
      ]
     },
     "execution_count": 16,
     "metadata": {},
     "output_type": "execute_result"
    }
   ],
   "source": [
    "data.describe(include=\"all\")[\"Churn\"]"
   ]
  },
  {
   "cell_type": "code",
   "execution_count": 17,
   "id": "db09c8f5-8e6b-4459-959c-615f67e89a4e",
   "metadata": {},
   "outputs": [
    {
     "data": {
      "text/plain": [
       "array([1, 0])"
      ]
     },
     "execution_count": 17,
     "metadata": {},
     "output_type": "execute_result"
    }
   ],
   "source": [
    "data.Churn.unique()"
   ]
  },
  {
   "cell_type": "code",
   "execution_count": 18,
   "id": "56a4c24a-a1f2-4aa9-a1c2-bab794aa3601",
   "metadata": {},
   "outputs": [
    {
     "data": {
      "text/plain": [
       "count    11260.000000\n",
       "mean         0.168384\n",
       "std          0.374223\n",
       "min          0.000000\n",
       "25%          0.000000\n",
       "50%          0.000000\n",
       "75%          0.000000\n",
       "max          1.000000\n",
       "Name: Churn, dtype: float64"
      ]
     },
     "execution_count": 18,
     "metadata": {},
     "output_type": "execute_result"
    }
   ],
   "source": [
    "import numpy as np  # Import numpy to use NaN\n",
    "\n",
    "data[\"Churn\"] = data[\"Churn\"].apply(lambda x: str(x).replace(\"#\", \"0\"))  # Convert to string before replacing\n",
    "data[\"Churn\"] = data[\"Churn\"].apply(lambda x: str(x).replace(\"nan\", \"0\"))\n",
    "\n",
    "data[\"Churn\"] = data[\"Churn\"].astype(\"float\")  # Convert to float after replacing\n",
    "data.describe()[\"Churn\"]  # Get the description of the \"Tenure\" column"
   ]
  },
  {
   "cell_type": "code",
   "execution_count": 19,
   "id": "c876525f-50e2-4a67-ac60-12222ce53fd3",
   "metadata": {},
   "outputs": [
    {
     "data": {
      "text/plain": [
       "array([1., 0.])"
      ]
     },
     "execution_count": 19,
     "metadata": {},
     "output_type": "execute_result"
    }
   ],
   "source": [
    "data.Churn.unique()"
   ]
  },
  {
   "cell_type": "code",
   "execution_count": 20,
   "id": "de80fe61-2c87-4de2-9ecd-551d56bf9789",
   "metadata": {},
   "outputs": [
    {
     "data": {
      "text/plain": [
       "Churn\n",
       "0.0    9364\n",
       "1.0    1896\n",
       "Name: count, dtype: int64"
      ]
     },
     "execution_count": 20,
     "metadata": {},
     "output_type": "execute_result"
    }
   ],
   "source": [
    "data[\"Churn\"].value_counts().sort_index()"
   ]
  },
  {
   "cell_type": "code",
   "execution_count": 21,
   "id": "3fd3dd89-770e-4cdf-82d8-042c058680c5",
   "metadata": {},
   "outputs": [
    {
     "data": {
      "text/plain": [
       "array([ 3.,  1., nan,  2.])"
      ]
     },
     "execution_count": 21,
     "metadata": {},
     "output_type": "execute_result"
    }
   ],
   "source": [
    "data.City_Tier.unique()"
   ]
  },
  {
   "cell_type": "code",
   "execution_count": 22,
   "id": "c160292c-ff4e-4bc4-87e9-ecb391ef6d5e",
   "metadata": {},
   "outputs": [
    {
     "data": {
      "text/plain": [
       "count     11148.000000\n",
       "unique             NaN\n",
       "top                NaN\n",
       "freq               NaN\n",
       "mean          1.653929\n",
       "std           0.915015\n",
       "min           1.000000\n",
       "25%           1.000000\n",
       "50%           1.000000\n",
       "75%           3.000000\n",
       "max           3.000000\n",
       "Name: City_Tier, dtype: float64"
      ]
     },
     "execution_count": 22,
     "metadata": {},
     "output_type": "execute_result"
    }
   ],
   "source": [
    "data.describe(include=\"all\")[\"City_Tier\"]"
   ]
  },
  {
   "cell_type": "code",
   "execution_count": 23,
   "id": "56f4eb7b-0c3c-4a91-9069-1cff87bcb694",
   "metadata": {},
   "outputs": [
    {
     "data": {
      "text/plain": [
       "count     11260.000000\n",
       "unique             NaN\n",
       "top                NaN\n",
       "freq               NaN\n",
       "mean          1.637478\n",
       "std           0.925130\n",
       "min           0.000000\n",
       "25%           1.000000\n",
       "50%           1.000000\n",
       "75%           3.000000\n",
       "max           3.000000\n",
       "Name: City_Tier, dtype: float64"
      ]
     },
     "execution_count": 23,
     "metadata": {},
     "output_type": "execute_result"
    }
   ],
   "source": [
    "import numpy as np  # Import numpy to use NaN\n",
    "\n",
    "data[\"City_Tier\"] = data[\"City_Tier\"].apply(lambda x: str(x).replace(\"#\", \"0\"))  # Convert to string before replacing\n",
    "data[\"City_Tier\"] = data[\"City_Tier\"].apply(lambda x: str(x).replace(\"nan\", \"0\"))\n",
    "\n",
    "data[\"City_Tier\"] = data[\"City_Tier\"].astype(\"float\")  # Convert to float after replacing\n",
    "data.describe(include=\"all\")[\"City_Tier\"]  # Get the description of the \"Tenure\" column"
   ]
  },
  {
   "cell_type": "code",
   "execution_count": 24,
   "id": "099950a3-6b91-4b94-843c-6d17ae37d8fc",
   "metadata": {},
   "outputs": [
    {
     "data": {
      "text/plain": [
       "count    11260.000000\n",
       "mean         1.637478\n",
       "std          0.925130\n",
       "min          0.000000\n",
       "25%          1.000000\n",
       "50%          1.000000\n",
       "75%          3.000000\n",
       "max          3.000000\n",
       "Name: City_Tier, dtype: float64"
      ]
     },
     "execution_count": 24,
     "metadata": {},
     "output_type": "execute_result"
    }
   ],
   "source": [
    "data.describe()[\"City_Tier\"]"
   ]
  },
  {
   "cell_type": "code",
   "execution_count": 31,
   "id": "9c4ccf38-30ef-477e-8cbd-2daaea853c7f",
   "metadata": {},
   "outputs": [
    {
     "data": {
      "text/plain": [
       "array([3., 1., 0., 2.])"
      ]
     },
     "execution_count": 31,
     "metadata": {},
     "output_type": "execute_result"
    }
   ],
   "source": [
    "data.City_Tier.unique()"
   ]
  },
  {
   "cell_type": "code",
   "execution_count": 35,
   "id": "8d26f7fe-ddff-4e6c-9cef-d0875bd2668f",
   "metadata": {},
   "outputs": [
    {
     "data": {
      "text/plain": [
       "array([  6.,   8.,  30.,  15.,  12.,  22.,  11.,   9.,  31.,  18.,  13.,\n",
       "        20.,  29.,  28.,  26.,  14.,  10.,  25.,  27.,  17.,  23.,  33.,\n",
       "        19.,  35.,  24.,  16.,  32.,  21.,  nan,  34.,   5.,   4., 126.,\n",
       "         7.,  36., 127.,  42.,  38.,  37.,  39.,  40.,  41., 132.,  43.,\n",
       "       129.])"
      ]
     },
     "execution_count": 35,
     "metadata": {},
     "output_type": "execute_result"
    }
   ],
   "source": [
    "data.CC_Contacted_LY.unique()"
   ]
  },
  {
   "cell_type": "code",
   "execution_count": 46,
   "id": "2d5e6119-da9f-4251-b0ff-4dec10483659",
   "metadata": {},
   "outputs": [
    {
     "data": {
      "text/plain": [
       "count    11260.000000\n",
       "mean        17.705240\n",
       "std          8.974194\n",
       "min          0.000000\n",
       "25%         11.000000\n",
       "50%         16.000000\n",
       "75%         23.000000\n",
       "max        132.000000\n",
       "Name: CC_Contacted_LY, dtype: float64"
      ]
     },
     "execution_count": 46,
     "metadata": {},
     "output_type": "execute_result"
    }
   ],
   "source": [
    "import numpy as np  # Import numpy to use NaN\n",
    "\n",
    "data[\"CC_Contacted_LY\"] = data[\"CC_Contacted_LY\"].apply(lambda x: str(x).replace(\"#\", \"0\"))  # Convert to string before replacing\n",
    "data[\"CC_Contacted_LY\"] = data[\"CC_Contacted_LY\"].apply(lambda x: str(x).replace(\"nan\", \"0\"))\n",
    "\n",
    "data[\"CC_Contacted_LY\"] = data[\"CC_Contacted_LY\"].astype(\"float\")  # Convert to float after replacing\n",
    "data.describe()[\"CC_Contacted_LY\"]  # Get the description of the \"Tenure\" column"
   ]
  },
  {
   "cell_type": "code",
   "execution_count": 48,
   "id": "eb0ef169-d53d-41c9-b40f-b48870545206",
   "metadata": {},
   "outputs": [
    {
     "data": {
      "text/plain": [
       "array(['Debit Card', 'UPI', 'Credit Card', 'Cash on Delivery', 'E wallet',\n",
       "       nan], dtype=object)"
      ]
     },
     "execution_count": 48,
     "metadata": {},
     "output_type": "execute_result"
    }
   ],
   "source": [
    "data.Payment.unique()             "
   ]
  },
  {
   "cell_type": "code",
   "execution_count": 50,
   "id": "1e3b9fe9-eca1-4686-9a37-925f5227d1f1",
   "metadata": {},
   "outputs": [
    {
     "data": {
      "text/plain": [
       "count          11151\n",
       "unique             5\n",
       "top       Debit Card\n",
       "freq            4587\n",
       "mean             NaN\n",
       "std              NaN\n",
       "min              NaN\n",
       "25%              NaN\n",
       "50%              NaN\n",
       "75%              NaN\n",
       "max              NaN\n",
       "Name: Payment, dtype: object"
      ]
     },
     "execution_count": 50,
     "metadata": {},
     "output_type": "execute_result"
    }
   ],
   "source": [
    "data.describe(include=\"all\")[\"Payment\"]"
   ]
  },
  {
   "cell_type": "code",
   "execution_count": 52,
   "id": "4e33910f-94d9-470e-929f-63c9d77d74ec",
   "metadata": {},
   "outputs": [
    {
     "name": "stdout",
     "output_type": "stream",
     "text": [
      "count          11260\n",
      "unique             6\n",
      "top       Debit Card\n",
      "freq            4587\n",
      "Name: Payment, dtype: object\n"
     ]
    }
   ],
   "source": [
    "# Check if 'Payment' column exists in the DataFrame\n",
    "if 'Payment' in data.columns:\n",
    "    # Replace NaN values in the 'Payment' column with 0\n",
    "    data['Payment'] = data['Payment'].fillna(0)\n",
    "    # Retrieve the description for the 'Payment' column\n",
    "    payment_description = data['Payment'].describe()\n",
    "else:\n",
    "    # If it does not exist, print a message\n",
    "    payment_description = \"Column 'Payment' does not exist in the DataFrame.\"\n",
    "\n",
    "# Output the result\n",
    "print(payment_description)"
   ]
  },
  {
   "cell_type": "code",
   "execution_count": 54,
   "id": "3965baf8-d4e3-40fb-82f7-8596be19f5be",
   "metadata": {},
   "outputs": [
    {
     "data": {
      "text/plain": [
       "array(['Female', 'Male', 'F', nan, 'M'], dtype=object)"
      ]
     },
     "execution_count": 54,
     "metadata": {},
     "output_type": "execute_result"
    }
   ],
   "source": [
    "data.Gender.unique()"
   ]
  },
  {
   "cell_type": "code",
   "execution_count": 57,
   "id": "d6774ff8-d8f1-4e63-9e4b-cb300f498b90",
   "metadata": {},
   "outputs": [
    {
     "data": {
      "text/plain": [
       "count     11152\n",
       "unique        4\n",
       "top        Male\n",
       "freq       6328\n",
       "mean        NaN\n",
       "std         NaN\n",
       "min         NaN\n",
       "25%         NaN\n",
       "50%         NaN\n",
       "75%         NaN\n",
       "max         NaN\n",
       "Name: Gender, dtype: object"
      ]
     },
     "execution_count": 57,
     "metadata": {},
     "output_type": "execute_result"
    }
   ],
   "source": [
    "data.describe(include=\"all\")[\"Gender\"]"
   ]
  },
  {
   "cell_type": "code",
   "execution_count": 58,
   "id": "c6ebc3ba-6d6b-4a0c-8910-de927118ec18",
   "metadata": {},
   "outputs": [
    {
     "data": {
      "text/plain": [
       "count     11260\n",
       "unique        4\n",
       "top        Male\n",
       "freq       6328\n",
       "mean        NaN\n",
       "std         NaN\n",
       "min         NaN\n",
       "25%         NaN\n",
       "50%         NaN\n",
       "75%         NaN\n",
       "max         NaN\n",
       "Name: Gender, dtype: object"
      ]
     },
     "execution_count": 58,
     "metadata": {},
     "output_type": "execute_result"
    }
   ],
   "source": [
    "import numpy as np  # Import numpy to use NaN\n",
    "\n",
    "data[\"Gender\"] = data[\"Gender\"].apply(lambda x: str(x).replace(\"Female\", \"F\"))  # Convert to string before replacing\n",
    "\n",
    "data[\"Gender\"] = data[\"Gender\"].astype(\"object\")  # Convert to float after replacing\n",
    "data.describe(include=\"all\")[\"Gender\"]  # Get the description of the \"Tenure\" column"
   ]
  },
  {
   "cell_type": "code",
   "execution_count": 60,
   "id": "06747947-4e44-4072-8ab6-d2b9764ead37",
   "metadata": {},
   "outputs": [
    {
     "data": {
      "text/plain": [
       "count     11260\n",
       "unique        3\n",
       "top           M\n",
       "freq       6704\n",
       "mean        NaN\n",
       "std         NaN\n",
       "min         NaN\n",
       "25%         NaN\n",
       "50%         NaN\n",
       "75%         NaN\n",
       "max         NaN\n",
       "Name: Gender, dtype: object"
      ]
     },
     "execution_count": 60,
     "metadata": {},
     "output_type": "execute_result"
    }
   ],
   "source": [
    "import numpy as np  # Import numpy to use NaN\n",
    "\n",
    "data[\"Gender\"] = data[\"Gender\"].apply(lambda x: str(x).replace(\"Male\", \"M\"))  # Convert to string before replacing\n",
    "\n",
    "data[\"Gender\"] = data[\"Gender\"].astype(\"object\")  # Convert to object after replacing\n",
    "data.describe(include=\"all\")[\"Gender\"]  # Get the description of the \"Gender\" column"
   ]
  },
  {
   "cell_type": "code",
   "execution_count": 62,
   "id": "71f10e81-313c-4fdc-9f33-de247d6c3e74",
   "metadata": {},
   "outputs": [
    {
     "data": {
      "text/plain": [
       "count     11260\n",
       "unique        3\n",
       "top           M\n",
       "freq       6704\n",
       "mean        NaN\n",
       "std         NaN\n",
       "min         NaN\n",
       "25%         NaN\n",
       "50%         NaN\n",
       "75%         NaN\n",
       "max         NaN\n",
       "Name: Gender, dtype: object"
      ]
     },
     "execution_count": 62,
     "metadata": {},
     "output_type": "execute_result"
    }
   ],
   "source": [
    "import numpy as np  # Import numpy to use NaN\n",
    "\n",
    "data[\"Gender\"] = data[\"Gender\"].apply(lambda x: str(x).replace(\"nan\", \"0\"))  # Convert to string before replacing\n",
    "\n",
    "data[\"Gender\"] = data[\"Gender\"].astype(\"object\")  # Convert to object after replacing\n",
    "data.describe(include=\"all\")[\"Gender\"]  # Get the description of the \"Gender\" column"
   ]
  },
  {
   "cell_type": "code",
   "execution_count": 64,
   "id": "103baf78-9ee3-4f51-86b7-51b03cbea366",
   "metadata": {},
   "outputs": [
    {
     "data": {
      "text/plain": [
       "array(['F', 'M', '0'], dtype=object)"
      ]
     },
     "execution_count": 64,
     "metadata": {},
     "output_type": "execute_result"
    }
   ],
   "source": [
    "data.Gender.unique()"
   ]
  },
  {
   "cell_type": "code",
   "execution_count": 66,
   "id": "a065ddd4-f727-49bd-babb-4a3df9e29907",
   "metadata": {},
   "outputs": [
    {
     "data": {
      "text/plain": [
       "array([ 3.,  2.,  1., nan,  0.,  4.,  5.])"
      ]
     },
     "execution_count": 66,
     "metadata": {},
     "output_type": "execute_result"
    }
   ],
   "source": [
    "data.Service_Score.unique()"
   ]
  },
  {
   "cell_type": "code",
   "execution_count": 68,
   "id": "7ca6d667-e7e8-45ea-8a74-18ae90af1471",
   "metadata": {},
   "outputs": [
    {
     "data": {
      "text/plain": [
       "count     11162.000000\n",
       "unique             NaN\n",
       "top                NaN\n",
       "freq               NaN\n",
       "mean          2.902526\n",
       "std           0.725584\n",
       "min           0.000000\n",
       "25%           2.000000\n",
       "50%           3.000000\n",
       "75%           3.000000\n",
       "max           5.000000\n",
       "Name: Service_Score, dtype: float64"
      ]
     },
     "execution_count": 68,
     "metadata": {},
     "output_type": "execute_result"
    }
   ],
   "source": [
    "data.describe(include=\"all\")[\"Service_Score\"]"
   ]
  },
  {
   "cell_type": "code",
   "execution_count": 70,
   "id": "eefd62d0-69b0-4dcd-aa8e-768121c12178",
   "metadata": {},
   "outputs": [
    {
     "data": {
      "text/plain": [
       "count     11260.000000\n",
       "unique             NaN\n",
       "top                NaN\n",
       "freq               NaN\n",
       "mean          2.877265\n",
       "std           0.771090\n",
       "min           0.000000\n",
       "25%           2.000000\n",
       "50%           3.000000\n",
       "75%           3.000000\n",
       "max           5.000000\n",
       "Name: Service_Score, dtype: float64"
      ]
     },
     "execution_count": 70,
     "metadata": {},
     "output_type": "execute_result"
    }
   ],
   "source": [
    "import numpy as np  # Import numpy to use NaN\n",
    "\n",
    "data[\"Service_Score\"] = data[\"Service_Score\"].apply(lambda x: str(x).replace(\"nan\", \"0\"))  # Convert to string before replacing\n",
    "\n",
    "data[\"Service_Score\"] = data[\"Service_Score\"].astype(\"float\")  # Convert to object after replacing\n",
    "data.describe(include=\"all\")[\"Service_Score\"]  # Get the description of the \"Gender\" column"
   ]
  },
  {
   "cell_type": "code",
   "execution_count": 72,
   "id": "a0326003-df19-4e95-a3e8-3e04411a9291",
   "metadata": {},
   "outputs": [
    {
     "data": {
      "text/plain": [
       "array([3., 2., 1., 0., 4., 5.])"
      ]
     },
     "execution_count": 72,
     "metadata": {},
     "output_type": "execute_result"
    }
   ],
   "source": [
    "data.Service_Score.unique()"
   ]
  },
  {
   "cell_type": "code",
   "execution_count": 74,
   "id": "345daea7-431d-40ac-82e4-b425abc301d8",
   "metadata": {},
   "outputs": [
    {
     "data": {
      "text/plain": [
       "array([3, 4, nan, 5, 2, '@', 1, 6], dtype=object)"
      ]
     },
     "execution_count": 74,
     "metadata": {},
     "output_type": "execute_result"
    }
   ],
   "source": [
    "data.Account_user_count.unique()"
   ]
  },
  {
   "cell_type": "code",
   "execution_count": 76,
   "id": "17e7ac8c-147b-4385-8489-276f047ec10e",
   "metadata": {},
   "outputs": [
    {
     "data": {
      "text/plain": [
       "count     11148.0\n",
       "unique        7.0\n",
       "top           4.0\n",
       "freq       4569.0\n",
       "mean          NaN\n",
       "std           NaN\n",
       "min           NaN\n",
       "25%           NaN\n",
       "50%           NaN\n",
       "75%           NaN\n",
       "max           NaN\n",
       "Name: Account_user_count, dtype: float64"
      ]
     },
     "execution_count": 76,
     "metadata": {},
     "output_type": "execute_result"
    }
   ],
   "source": [
    "data.describe(include=\"all\")[\"Account_user_count\"]"
   ]
  },
  {
   "cell_type": "code",
   "execution_count": 78,
   "id": "2b9de077-4a89-424c-b924-d4eb2e85fce5",
   "metadata": {},
   "outputs": [
    {
     "data": {
      "text/plain": [
       "count     11260\n",
       "unique        7\n",
       "top           4\n",
       "freq       4569\n",
       "mean        NaN\n",
       "std         NaN\n",
       "min         NaN\n",
       "25%         NaN\n",
       "50%         NaN\n",
       "75%         NaN\n",
       "max         NaN\n",
       "Name: Account_user_count, dtype: object"
      ]
     },
     "execution_count": 78,
     "metadata": {},
     "output_type": "execute_result"
    }
   ],
   "source": [
    "import numpy as np  # Import numpy to use NaN\n",
    "\n",
    "data[\"Account_user_count\"] = data[\"Account_user_count\"].apply(lambda x: str(x).replace(\"nan\", \"0\"))# Convert to string before replacing\n",
    "data[\"Account_user_count\"] = data[\"Account_user_count\"].apply(lambda x: str(x).replace(\"@\", \"0\"))\n",
    "\n",
    "data[\"Account_user_count\"] = data[\"Account_user_count\"].astype(\"object\")  # Convert to object after replacing\n",
    "data.describe(include=\"all\")[\"Account_user_count\"]  # Get the description of the \"Gender\" column"
   ]
  },
  {
   "cell_type": "code",
   "execution_count": 81,
   "id": "f4cb8c99-2026-492c-a113-79f25681c222",
   "metadata": {},
   "outputs": [
    {
     "data": {
      "text/plain": [
       "array(['3', '4', '0', '5', '2', '1', '6'], dtype=object)"
      ]
     },
     "execution_count": 81,
     "metadata": {},
     "output_type": "execute_result"
    }
   ],
   "source": [
    "data.Account_user_count.unique()"
   ]
  },
  {
   "cell_type": "code",
   "execution_count": 83,
   "id": "3e58b228-ada6-420b-a77e-3423f80f1f78",
   "metadata": {},
   "outputs": [
    {
     "data": {
      "text/plain": [
       "array(['Super', 'Regular Plus', 'Regular', 'HNI', 'Regular +', nan,\n",
       "       'Super Plus', 'Super +'], dtype=object)"
      ]
     },
     "execution_count": 83,
     "metadata": {},
     "output_type": "execute_result"
    }
   ],
   "source": [
    "data.account_segment.unique()"
   ]
  },
  {
   "cell_type": "code",
   "execution_count": 84,
   "id": "9dbf7b7c-0083-4918-b799-943a92eea444",
   "metadata": {},
   "outputs": [
    {
     "data": {
      "text/plain": [
       "count     11163\n",
       "unique        7\n",
       "top       Super\n",
       "freq       4062\n",
       "mean        NaN\n",
       "std         NaN\n",
       "min         NaN\n",
       "25%         NaN\n",
       "50%         NaN\n",
       "75%         NaN\n",
       "max         NaN\n",
       "Name: account_segment, dtype: object"
      ]
     },
     "execution_count": 84,
     "metadata": {},
     "output_type": "execute_result"
    }
   ],
   "source": [
    "data.describe(include=\"all\")[\"account_segment\"]"
   ]
  },
  {
   "cell_type": "code",
   "execution_count": 86,
   "id": "bb2bd6c2-5992-4846-9e50-8b6fa7be7c9e",
   "metadata": {},
   "outputs": [
    {
     "data": {
      "text/plain": [
       "count            11260\n",
       "unique               6\n",
       "top       Regular Plus\n",
       "freq              4124\n",
       "mean               NaN\n",
       "std                NaN\n",
       "min                NaN\n",
       "25%                NaN\n",
       "50%                NaN\n",
       "75%                NaN\n",
       "max                NaN\n",
       "Name: account_segment, dtype: object"
      ]
     },
     "execution_count": 86,
     "metadata": {},
     "output_type": "execute_result"
    }
   ],
   "source": [
    "import numpy as np  # Import numpy to use NaN\n",
    "\n",
    "data[\"account_segment\"] = data[\"account_segment\"].apply(lambda x: str(x).replace(\"+\", \"Plus\"))# Convert to string before replacing\n",
    "data[\"account_segment\"] = data[\"account_segment\"].apply(lambda x: str(x).replace(\"nan\", \"0\"))\n",
    "\n",
    "data[\"account_segment\"] = data[\"account_segment\"].astype(\"object\")  # Convert to object after replacing\n",
    "data.describe(include=\"all\")[\"account_segment\"]  # Get the description of the \"Gender\" column"
   ]
  },
  {
   "cell_type": "code",
   "execution_count": 88,
   "id": "55c73700-5ec5-4474-9f36-0af8530c642b",
   "metadata": {},
   "outputs": [
    {
     "data": {
      "text/plain": [
       "array(['Super', 'Regular Plus', 'Regular', 'HNI', '0', 'Super Plus'],\n",
       "      dtype=object)"
      ]
     },
     "execution_count": 88,
     "metadata": {},
     "output_type": "execute_result"
    }
   ],
   "source": [
    "data.account_segment.unique()"
   ]
  },
  {
   "cell_type": "code",
   "execution_count": 90,
   "id": "2103bc56-0779-49f0-83c1-031c4aabd4b8",
   "metadata": {},
   "outputs": [
    {
     "data": {
      "text/plain": [
       "array([ 2.,  3.,  5.,  4., nan,  1.])"
      ]
     },
     "execution_count": 90,
     "metadata": {},
     "output_type": "execute_result"
    }
   ],
   "source": [
    "data.CC_Agent_Score.unique()"
   ]
  },
  {
   "cell_type": "code",
   "execution_count": 92,
   "id": "0d28fc14-b138-41de-b422-5f3124763c73",
   "metadata": {},
   "outputs": [
    {
     "data": {
      "text/plain": [
       "count    11144.000000\n",
       "mean         3.066493\n",
       "std          1.379772\n",
       "min          1.000000\n",
       "25%          2.000000\n",
       "50%          3.000000\n",
       "75%          4.000000\n",
       "max          5.000000\n",
       "Name: CC_Agent_Score, dtype: float64"
      ]
     },
     "execution_count": 92,
     "metadata": {},
     "output_type": "execute_result"
    }
   ],
   "source": [
    "data.describe()[\"CC_Agent_Score\"]"
   ]
  },
  {
   "cell_type": "code",
   "execution_count": 94,
   "id": "78798613-5dc5-41f8-827e-14b998048c7b",
   "metadata": {},
   "outputs": [
    {
     "data": {
      "text/plain": [
       "count    11260.000000\n",
       "mean         3.034902\n",
       "std          1.407139\n",
       "min          0.000000\n",
       "25%          2.000000\n",
       "50%          3.000000\n",
       "75%          4.000000\n",
       "max          5.000000\n",
       "Name: CC_Agent_Score, dtype: float64"
      ]
     },
     "execution_count": 94,
     "metadata": {},
     "output_type": "execute_result"
    }
   ],
   "source": [
    "import numpy as np  # Import numpy to use NaN\n",
    "\n",
    "data[\"CC_Agent_Score\"] = data[\"CC_Agent_Score\"].apply(lambda x: str(x).replace(\"nan\", \"0\"))# Convert to string before replacing\n",
    "\n",
    "\n",
    "data[\"CC_Agent_Score\"] = data[\"CC_Agent_Score\"].astype(\"float\")  # Convert to object after replacing\n",
    "data.describe()[\"CC_Agent_Score\"]  # Get the description of the \"Gender\" column"
   ]
  },
  {
   "cell_type": "code",
   "execution_count": 96,
   "id": "0da5fb11-2045-453e-83f6-f7293f1f5b9d",
   "metadata": {},
   "outputs": [
    {
     "data": {
      "text/plain": [
       "array([2., 3., 5., 4., 0., 1.])"
      ]
     },
     "execution_count": 96,
     "metadata": {},
     "output_type": "execute_result"
    }
   ],
   "source": [
    "data.CC_Agent_Score.unique()"
   ]
  },
  {
   "cell_type": "code",
   "execution_count": 98,
   "id": "06fda398-4d5d-4ff7-829d-a75780386656",
   "metadata": {},
   "outputs": [
    {
     "data": {
      "text/plain": [
       "count    11260.000000\n",
       "mean         3.034902\n",
       "std          1.407139\n",
       "min          0.000000\n",
       "25%          2.000000\n",
       "50%          3.000000\n",
       "75%          4.000000\n",
       "max          5.000000\n",
       "Name: CC_Agent_Score, dtype: float64"
      ]
     },
     "execution_count": 98,
     "metadata": {},
     "output_type": "execute_result"
    }
   ],
   "source": [
    "data.describe()[\"CC_Agent_Score\"]"
   ]
  },
  {
   "cell_type": "code",
   "execution_count": 100,
   "id": "f455cd28-d949-440d-bb25-95e6238059b9",
   "metadata": {},
   "outputs": [
    {
     "data": {
      "text/plain": [
       "array(['Single', 'Divorced', 'Married', nan], dtype=object)"
      ]
     },
     "execution_count": 100,
     "metadata": {},
     "output_type": "execute_result"
    }
   ],
   "source": [
    "data.Marital_Status.unique()"
   ]
  },
  {
   "cell_type": "code",
   "execution_count": 102,
   "id": "28e5e5fb-c3ed-42a2-bc4d-e773c52b4eba",
   "metadata": {},
   "outputs": [
    {
     "data": {
      "text/plain": [
       "count       11048\n",
       "unique          3\n",
       "top       Married\n",
       "freq         5860\n",
       "mean          NaN\n",
       "std           NaN\n",
       "min           NaN\n",
       "25%           NaN\n",
       "50%           NaN\n",
       "75%           NaN\n",
       "max           NaN\n",
       "Name: Marital_Status, dtype: object"
      ]
     },
     "execution_count": 102,
     "metadata": {},
     "output_type": "execute_result"
    }
   ],
   "source": [
    "data.describe(include=\"all\")[\"Marital_Status\"]"
   ]
  },
  {
   "cell_type": "code",
   "execution_count": 104,
   "id": "58c1cc8f-c495-47a8-be22-03b950de4ee4",
   "metadata": {},
   "outputs": [
    {
     "data": {
      "text/plain": [
       "count       11260\n",
       "unique          4\n",
       "top       Married\n",
       "freq         5860\n",
       "mean          NaN\n",
       "std           NaN\n",
       "min           NaN\n",
       "25%           NaN\n",
       "50%           NaN\n",
       "75%           NaN\n",
       "max           NaN\n",
       "Name: Marital_Status, dtype: object"
      ]
     },
     "execution_count": 104,
     "metadata": {},
     "output_type": "execute_result"
    }
   ],
   "source": [
    "import numpy as np  # Import numpy to use NaN\n",
    "\n",
    "data[\"Marital_Status\"] = data[\"Marital_Status\"].apply(lambda x: str(x).replace(\"nan\", \"0\"))# Convert to string before replacing\n",
    "\n",
    "\n",
    "data[\"Marital_Status\"] = data[\"Marital_Status\"].astype(\"object\")  # Convert to object after replacing\n",
    "data.describe(include=\"all\")[\"Marital_Status\"]  # Get the description of the \"Gender\" column"
   ]
  },
  {
   "cell_type": "code",
   "execution_count": 106,
   "id": "406c55ab-f979-4045-8248-95cb66607ea8",
   "metadata": {},
   "outputs": [
    {
     "data": {
      "text/plain": [
       "array(['Single', 'Divorced', 'Married', '0'], dtype=object)"
      ]
     },
     "execution_count": 106,
     "metadata": {},
     "output_type": "execute_result"
    }
   ],
   "source": [
    "data.Marital_Status.unique()"
   ]
  },
  {
   "cell_type": "code",
   "execution_count": 108,
   "id": "7e2b1a33-e478-4b85-addc-d45f0243e5fc",
   "metadata": {},
   "outputs": [
    {
     "data": {
      "text/plain": [
       "count       11260\n",
       "unique          4\n",
       "top       Married\n",
       "freq         5860\n",
       "mean          NaN\n",
       "std           NaN\n",
       "min           NaN\n",
       "25%           NaN\n",
       "50%           NaN\n",
       "75%           NaN\n",
       "max           NaN\n",
       "Name: Marital_Status, dtype: object"
      ]
     },
     "execution_count": 108,
     "metadata": {},
     "output_type": "execute_result"
    }
   ],
   "source": [
    "data.describe(include=\"all\")[\"Marital_Status\"]"
   ]
  },
  {
   "cell_type": "code",
   "execution_count": 110,
   "id": "61c0555e-9aa9-4f1f-a11b-9f1d5d804c84",
   "metadata": {},
   "outputs": [
    {
     "data": {
      "text/plain": [
       "array([9, 7, 6, 8, 3, 2, 4, 10, 1, 5, '+', 130, nan, 19, 139, 102, 120,\n",
       "       138, 127, 123, 124, 116, 21, 126, 134, 113, 114, 108, 140, 133,\n",
       "       129, 107, 118, 11, 105, 20, 119, 121, 137, 110, 22, 101, 136, 125,\n",
       "       14, 13, 12, 115, 23, 122, 117, 131, 104, 15, 25, 135, 111, 109,\n",
       "       100, 103], dtype=object)"
      ]
     },
     "execution_count": 110,
     "metadata": {},
     "output_type": "execute_result"
    }
   ],
   "source": [
    "data.rev_per_month.unique()"
   ]
  },
  {
   "cell_type": "code",
   "execution_count": 112,
   "id": "c0937b15-2d15-44a2-a453-531c26001193",
   "metadata": {},
   "outputs": [
    {
     "data": {
      "text/plain": [
       "count     11158.0\n",
       "unique       59.0\n",
       "top           3.0\n",
       "freq       1746.0\n",
       "mean          NaN\n",
       "std           NaN\n",
       "min           NaN\n",
       "25%           NaN\n",
       "50%           NaN\n",
       "75%           NaN\n",
       "max           NaN\n",
       "Name: rev_per_month, dtype: float64"
      ]
     },
     "execution_count": 112,
     "metadata": {},
     "output_type": "execute_result"
    }
   ],
   "source": [
    "data.describe(include=\"all\")[\"rev_per_month\"]"
   ]
  },
  {
   "cell_type": "code",
   "execution_count": 114,
   "id": "28735ffe-7bce-4ae8-94b4-b90271df1faa",
   "metadata": {},
   "outputs": [
    {
     "data": {
      "text/plain": [
       "count     11260\n",
       "unique       59\n",
       "top           3\n",
       "freq       1746\n",
       "mean        NaN\n",
       "std         NaN\n",
       "min         NaN\n",
       "25%         NaN\n",
       "50%         NaN\n",
       "75%         NaN\n",
       "max         NaN\n",
       "Name: rev_per_month, dtype: object"
      ]
     },
     "execution_count": 114,
     "metadata": {},
     "output_type": "execute_result"
    }
   ],
   "source": [
    "import numpy as np  # Import numpy to use NaN\n",
    "\n",
    "data[\"rev_per_month\"] = data[\"rev_per_month\"].apply(lambda x: str(x).replace(\"+\", \"0\"))# Convert to string before replacing\n",
    "data[\"rev_per_month\"] = data[\"rev_per_month\"].apply(lambda x: str(x).replace(\"nan\", \"0\"))\n",
    "\n",
    "data[\"rev_per_month\"] = data[\"rev_per_month\"].astype(\"object\")  # Convert to object after replacing\n",
    "data.describe(include=\"all\")[\"rev_per_month\"]  # Get the description of the \"Gender\" column"
   ]
  },
  {
   "cell_type": "code",
   "execution_count": 116,
   "id": "c9da650f-d462-4b01-ad87-70f6b555bad1",
   "metadata": {},
   "outputs": [
    {
     "data": {
      "text/plain": [
       "array(['9', '7', '6', '8', '3', '2', '4', '10', '1', '5', '0', '130',\n",
       "       '19', '139', '102', '120', '138', '127', '123', '124', '116', '21',\n",
       "       '126', '134', '113', '114', '108', '140', '133', '129', '107',\n",
       "       '118', '11', '105', '20', '119', '121', '137', '110', '22', '101',\n",
       "       '136', '125', '14', '13', '12', '115', '23', '122', '117', '131',\n",
       "       '104', '15', '25', '135', '111', '109', '100', '103'], dtype=object)"
      ]
     },
     "execution_count": 116,
     "metadata": {},
     "output_type": "execute_result"
    }
   ],
   "source": [
    "data.rev_per_month.unique()"
   ]
  },
  {
   "cell_type": "code",
   "execution_count": 118,
   "id": "e98a0966-dc60-40f8-9359-85502a9137e4",
   "metadata": {},
   "outputs": [
    {
     "data": {
      "text/plain": [
       "array([ 1.,  0., nan])"
      ]
     },
     "execution_count": 118,
     "metadata": {},
     "output_type": "execute_result"
    }
   ],
   "source": [
    "data.Complain_ly.unique()"
   ]
  },
  {
   "cell_type": "code",
   "execution_count": 120,
   "id": "486eeefe-3e68-4f9c-964f-9143272dd017",
   "metadata": {},
   "outputs": [
    {
     "data": {
      "text/plain": [
       "Complain_ly\n",
       "0.0    7792\n",
       "1.0    3111\n",
       "Name: count, dtype: int64"
      ]
     },
     "execution_count": 120,
     "metadata": {},
     "output_type": "execute_result"
    }
   ],
   "source": [
    "data[\"Complain_ly\"].value_counts().sort_index()"
   ]
  },
  {
   "cell_type": "code",
   "execution_count": 122,
   "id": "10e894d7-df32-4212-bd87-cfef33620d93",
   "metadata": {},
   "outputs": [
    {
     "data": {
      "text/plain": [
       "count     10903.000000\n",
       "unique             NaN\n",
       "top                NaN\n",
       "freq               NaN\n",
       "mean          0.285334\n",
       "std           0.451594\n",
       "min           0.000000\n",
       "25%           0.000000\n",
       "50%           0.000000\n",
       "75%           1.000000\n",
       "max           1.000000\n",
       "Name: Complain_ly, dtype: float64"
      ]
     },
     "execution_count": 122,
     "metadata": {},
     "output_type": "execute_result"
    }
   ],
   "source": [
    "data.describe(include=\"all\")[\"Complain_ly\"]"
   ]
  },
  {
   "cell_type": "code",
   "execution_count": 124,
   "id": "a3492938-cb2d-4054-994f-0f024bcf39e0",
   "metadata": {},
   "outputs": [
    {
     "data": {
      "text/plain": [
       "rev_per_month\n",
       "0       791\n",
       "1       402\n",
       "10      413\n",
       "100       1\n",
       "101       3\n",
       "102       8\n",
       "103       1\n",
       "104       1\n",
       "105       2\n",
       "107       5\n",
       "108       3\n",
       "109       1\n",
       "11      278\n",
       "110       3\n",
       "111       1\n",
       "113       3\n",
       "114       2\n",
       "115       3\n",
       "116       3\n",
       "117       3\n",
       "118       4\n",
       "119       3\n",
       "12      166\n",
       "120       2\n",
       "121       2\n",
       "122       1\n",
       "123       5\n",
       "124       5\n",
       "125       2\n",
       "126       3\n",
       "127       3\n",
       "129       4\n",
       "13       93\n",
       "130       3\n",
       "131       2\n",
       "133       4\n",
       "134       2\n",
       "135       1\n",
       "136       4\n",
       "137       3\n",
       "138       3\n",
       "139       2\n",
       "14       48\n",
       "140       4\n",
       "15       24\n",
       "19        2\n",
       "2      1585\n",
       "20        1\n",
       "21        1\n",
       "22        2\n",
       "23        1\n",
       "25        1\n",
       "3      1746\n",
       "4      1218\n",
       "5      1337\n",
       "6      1085\n",
       "7       754\n",
       "8       643\n",
       "9       564\n",
       "Name: count, dtype: int64"
      ]
     },
     "execution_count": 124,
     "metadata": {},
     "output_type": "execute_result"
    }
   ],
   "source": [
    "data[\"rev_per_month\"].value_counts().sort_index()"
   ]
  },
  {
   "cell_type": "code",
   "execution_count": 126,
   "id": "5cf97649-aaaf-4565-b496-7a6fee2cde20",
   "metadata": {},
   "outputs": [
    {
     "data": {
      "text/plain": [
       "Complain_ly\n",
       "0.0    7792\n",
       "1.0    3111\n",
       "Name: count, dtype: int64"
      ]
     },
     "execution_count": 126,
     "metadata": {},
     "output_type": "execute_result"
    }
   ],
   "source": [
    "data[\"Complain_ly\"].value_counts().sort_index()"
   ]
  },
  {
   "cell_type": "code",
   "execution_count": 128,
   "id": "75f4aa36-f7fa-4821-8e6d-7a6cf11a87bd",
   "metadata": {},
   "outputs": [
    {
     "data": {
      "text/plain": [
       "count     11260\n",
       "unique        2\n",
       "top         0.0\n",
       "freq       8149\n",
       "mean        NaN\n",
       "std         NaN\n",
       "min         NaN\n",
       "25%         NaN\n",
       "50%         NaN\n",
       "75%         NaN\n",
       "max         NaN\n",
       "Name: Complain_ly, dtype: object"
      ]
     },
     "execution_count": 128,
     "metadata": {},
     "output_type": "execute_result"
    }
   ],
   "source": [
    "import numpy as np  # Import numpy to use NaN\n",
    "# Convert to string before replacing\n",
    "data[\"Complain_ly\"] = data[\"Complain_ly\"].apply(lambda x: str(x).replace(\"nan\", \"0.0\"))\n",
    "\n",
    "data[\"Complain_ly\"] = data[\"Complain_ly\"].astype(\"object\")  # Convert to object after replacing\n",
    "data.describe(include=\"all\")[\"Complain_ly\"]  # Get the description of the \"Gender\" column"
   ]
  },
  {
   "cell_type": "code",
   "execution_count": 130,
   "id": "b49becff-71e8-4901-b61d-287719c406e1",
   "metadata": {},
   "outputs": [
    {
     "data": {
      "text/plain": [
       "Complain_ly\n",
       "0.0    8149\n",
       "1.0    3111\n",
       "Name: count, dtype: int64"
      ]
     },
     "execution_count": 130,
     "metadata": {},
     "output_type": "execute_result"
    }
   ],
   "source": [
    "data[\"Complain_ly\"].value_counts().sort_index()"
   ]
  },
  {
   "cell_type": "code",
   "execution_count": 132,
   "id": "df0a4660-fd93-49ce-8fdf-9587d83e8cdb",
   "metadata": {},
   "outputs": [
    {
     "data": {
      "text/plain": [
       "Complain_ly\n",
       "0.0    8149\n",
       "1.0    3111\n",
       "Name: count, dtype: int64"
      ]
     },
     "execution_count": 132,
     "metadata": {},
     "output_type": "execute_result"
    }
   ],
   "source": [
    "data[\"Complain_ly\"].value_counts().sort_index()"
   ]
  },
  {
   "cell_type": "code",
   "execution_count": 134,
   "id": "42c3fdaf-9273-47f4-a8f8-b5ce50192f72",
   "metadata": {},
   "outputs": [
    {
     "data": {
      "text/plain": [
       "array(['1.0', '0.0'], dtype=object)"
      ]
     },
     "execution_count": 134,
     "metadata": {},
     "output_type": "execute_result"
    }
   ],
   "source": [
    "data.Complain_ly.unique()"
   ]
  },
  {
   "cell_type": "code",
   "execution_count": 136,
   "id": "ea1fd3fe-6b87-4823-9635-d9af04a8fda1",
   "metadata": {},
   "outputs": [
    {
     "data": {
      "text/plain": [
       "array([11, 15, 14, 23, 22, 16, 12, 13, 17, 18, 24, 19, 20, 21, 25, 26,\n",
       "       '$', 4, 27, 28], dtype=object)"
      ]
     },
     "execution_count": 136,
     "metadata": {},
     "output_type": "execute_result"
    }
   ],
   "source": [
    "data.rev_growth_yoy.unique()"
   ]
  },
  {
   "cell_type": "code",
   "execution_count": 138,
   "id": "6ca6c22c-1e29-4fda-a5e2-4a6ccea4b440",
   "metadata": {},
   "outputs": [
    {
     "data": {
      "text/plain": [
       "count     11260.0\n",
       "unique       20.0\n",
       "top          14.0\n",
       "freq       1524.0\n",
       "mean          NaN\n",
       "std           NaN\n",
       "min           NaN\n",
       "25%           NaN\n",
       "50%           NaN\n",
       "75%           NaN\n",
       "max           NaN\n",
       "Name: rev_growth_yoy, dtype: float64"
      ]
     },
     "execution_count": 138,
     "metadata": {},
     "output_type": "execute_result"
    }
   ],
   "source": [
    "data.describe(include=\"all\")[\"rev_growth_yoy\"]"
   ]
  },
  {
   "cell_type": "code",
   "execution_count": 140,
   "id": "4c7e89f0-3f41-4659-8495-84d9013413ae",
   "metadata": {},
   "outputs": [
    {
     "data": {
      "text/plain": [
       "count     11260\n",
       "unique       20\n",
       "top          14\n",
       "freq       1524\n",
       "mean        NaN\n",
       "std         NaN\n",
       "min         NaN\n",
       "25%         NaN\n",
       "50%         NaN\n",
       "75%         NaN\n",
       "max         NaN\n",
       "Name: rev_growth_yoy, dtype: object"
      ]
     },
     "execution_count": 140,
     "metadata": {},
     "output_type": "execute_result"
    }
   ],
   "source": [
    "import numpy as np  # Import numpy to use NaN\n",
    "# Convert to string before replacing\n",
    "data[\"rev_growth_yoy\"] = data[\"rev_growth_yoy\"].apply(lambda x: str(x).replace(\"$\", \"0\"))\n",
    "\n",
    "data[\"rev_growth_yoy\"] = data[\"rev_growth_yoy\"].astype(\"object\")  # Convert to object after replacing\n",
    "data.describe(include=\"all\")[\"rev_growth_yoy\"]  # Get the description of the \"Gender\" column"
   ]
  },
  {
   "cell_type": "code",
   "execution_count": 142,
   "id": "15cdce6d-2755-403b-b483-b5613d3a933d",
   "metadata": {},
   "outputs": [
    {
     "data": {
      "text/plain": [
       "array(['11', '15', '14', '23', '22', '16', '12', '13', '17', '18', '24',\n",
       "       '19', '20', '21', '25', '26', '0', '4', '27', '28'], dtype=object)"
      ]
     },
     "execution_count": 142,
     "metadata": {},
     "output_type": "execute_result"
    }
   ],
   "source": [
    "data.rev_growth_yoy.unique()"
   ]
  },
  {
   "cell_type": "code",
   "execution_count": 144,
   "id": "e0282a3e-4085-4f1a-bf10-75bc9425412f",
   "metadata": {},
   "outputs": [
    {
     "data": {
      "text/plain": [
       "rev_growth_yoy\n",
       "0        3\n",
       "11     523\n",
       "12    1210\n",
       "13    1427\n",
       "14    1524\n",
       "15    1283\n",
       "16     949\n",
       "17     704\n",
       "18     708\n",
       "19     619\n",
       "20     562\n",
       "21     433\n",
       "22     403\n",
       "23     345\n",
       "24     229\n",
       "25     188\n",
       "26      98\n",
       "27      35\n",
       "28      14\n",
       "4        3\n",
       "Name: count, dtype: int64"
      ]
     },
     "execution_count": 144,
     "metadata": {},
     "output_type": "execute_result"
    }
   ],
   "source": [
    "data[\"rev_growth_yoy\"].value_counts().sort_index()"
   ]
  },
  {
   "cell_type": "code",
   "execution_count": 146,
   "id": "2d0e2216-691a-4f7e-9b77-d96d2badaf9d",
   "metadata": {},
   "outputs": [
    {
     "data": {
      "text/plain": [
       "array([1, 0, 4, 2, 9, 6, 11, 7, 12, 10, 5, 3, 13, 15, 8, '#', '$', 14,\n",
       "       '*', 16], dtype=object)"
      ]
     },
     "execution_count": 146,
     "metadata": {},
     "output_type": "execute_result"
    }
   ],
   "source": [
    "data.coupon_used_for_payment.unique()"
   ]
  },
  {
   "cell_type": "code",
   "execution_count": 148,
   "id": "9e2b0b24-3e97-46b1-ad52-47dabfaac910",
   "metadata": {},
   "outputs": [
    {
     "data": {
      "text/plain": [
       "count     11260.0\n",
       "unique       20.0\n",
       "top           1.0\n",
       "freq       4373.0\n",
       "mean          NaN\n",
       "std           NaN\n",
       "min           NaN\n",
       "25%           NaN\n",
       "50%           NaN\n",
       "75%           NaN\n",
       "max           NaN\n",
       "Name: coupon_used_for_payment, dtype: float64"
      ]
     },
     "execution_count": 148,
     "metadata": {},
     "output_type": "execute_result"
    }
   ],
   "source": [
    "data.describe(include=\"all\")['coupon_used_for_payment']"
   ]
  },
  {
   "cell_type": "code",
   "execution_count": 150,
   "id": "2e5fc81d-25e7-42b9-90d0-062249b6cdab",
   "metadata": {},
   "outputs": [
    {
     "data": {
      "text/plain": [
       "count     11260\n",
       "unique       17\n",
       "top           1\n",
       "freq       4373\n",
       "mean        NaN\n",
       "std         NaN\n",
       "min         NaN\n",
       "25%         NaN\n",
       "50%         NaN\n",
       "75%         NaN\n",
       "max         NaN\n",
       "Name: coupon_used_for_payment, dtype: object"
      ]
     },
     "execution_count": 150,
     "metadata": {},
     "output_type": "execute_result"
    }
   ],
   "source": [
    "\n",
    "# Convert to string before replacing\n",
    "data[\"coupon_used_for_payment\"] = data[\"coupon_used_for_payment\"].apply(lambda x: str(x).replace(\"$\", \"0\"))\n",
    "data[\"coupon_used_for_payment\"] = data[\"coupon_used_for_payment\"].apply(lambda x: str(x).replace(\"#\", \"0\"))\n",
    "data[\"coupon_used_for_payment\"] = data[\"coupon_used_for_payment\"].apply(lambda x: str(x).replace(\"*\", \"0\"))\n",
    "\n",
    "data[\"coupon_used_for_payment\"] = data[\"coupon_used_for_payment\"].astype(\"object\")  # Convert to object after replacing\n",
    "data.describe(include=\"all\")[\"coupon_used_for_payment\"]  # Get the description of the \"Gender\" column"
   ]
  },
  {
   "cell_type": "code",
   "execution_count": 152,
   "id": "57d21ca5-3479-440d-9ebf-55e16e3cff73",
   "metadata": {},
   "outputs": [
    {
     "data": {
      "text/plain": [
       "array(['1', '0', '4', '2', '9', '6', '11', '7', '12', '10', '5', '3',\n",
       "       '13', '15', '8', '14', '16'], dtype=object)"
      ]
     },
     "execution_count": 152,
     "metadata": {},
     "output_type": "execute_result"
    }
   ],
   "source": [
    "data.coupon_used_for_payment.unique()"
   ]
  },
  {
   "cell_type": "code",
   "execution_count": 154,
   "id": "1d89718d-a022-4f27-9b0a-cec7b3dcfc0f",
   "metadata": {},
   "outputs": [
    {
     "data": {
      "text/plain": [
       "coupon_used_for_payment\n",
       "0     2153\n",
       "1     4373\n",
       "10      34\n",
       "11      30\n",
       "12      26\n",
       "13      22\n",
       "14      12\n",
       "15       4\n",
       "16       4\n",
       "2     2656\n",
       "3      698\n",
       "4      424\n",
       "5      284\n",
       "6      234\n",
       "7      184\n",
       "8       88\n",
       "9       34\n",
       "Name: count, dtype: int64"
      ]
     },
     "execution_count": 154,
     "metadata": {},
     "output_type": "execute_result"
    }
   ],
   "source": [
    "data[\"coupon_used_for_payment\"].value_counts().sort_index()"
   ]
  },
  {
   "cell_type": "code",
   "execution_count": 156,
   "id": "b4f13575-b7f3-42f5-92d2-fec01868af6c",
   "metadata": {},
   "outputs": [
    {
     "data": {
      "text/plain": [
       "array([5, 0, 3, 7, 2, 1, 8, 6, 4, 15, nan, 11, 10, 9, 13, 12, 17, 16, 14,\n",
       "       30, '$', 46, 18, 31, 47], dtype=object)"
      ]
     },
     "execution_count": 156,
     "metadata": {},
     "output_type": "execute_result"
    }
   ],
   "source": [
    "data.Day_Since_CC_connect.unique()"
   ]
  },
  {
   "cell_type": "code",
   "execution_count": 158,
   "id": "48185e1b-fda0-4c37-bda0-ebc68ddf612d",
   "metadata": {},
   "outputs": [
    {
     "data": {
      "text/plain": [
       "count     10903.0\n",
       "unique       24.0\n",
       "top           3.0\n",
       "freq       1816.0\n",
       "mean          NaN\n",
       "std           NaN\n",
       "min           NaN\n",
       "25%           NaN\n",
       "50%           NaN\n",
       "75%           NaN\n",
       "max           NaN\n",
       "Name: Day_Since_CC_connect, dtype: float64"
      ]
     },
     "execution_count": 158,
     "metadata": {},
     "output_type": "execute_result"
    }
   ],
   "source": [
    "data.describe(include=\"all\")['Day_Since_CC_connect']"
   ]
  },
  {
   "cell_type": "code",
   "execution_count": 160,
   "id": "6d0ef9d5-cebe-4b95-b11b-f033c925d243",
   "metadata": {},
   "outputs": [
    {
     "data": {
      "text/plain": [
       "count     11260\n",
       "unique       23\n",
       "top           3\n",
       "freq       1816\n",
       "mean        NaN\n",
       "std         NaN\n",
       "min         NaN\n",
       "25%         NaN\n",
       "50%         NaN\n",
       "75%         NaN\n",
       "max         NaN\n",
       "Name: Day_Since_CC_connect, dtype: object"
      ]
     },
     "execution_count": 160,
     "metadata": {},
     "output_type": "execute_result"
    }
   ],
   "source": [
    "\n",
    "# Convert to string before replacing\n",
    "data[\"Day_Since_CC_connect\"] = data[\"Day_Since_CC_connect\"].apply(lambda x: str(x).replace(\"nan\", \"0\"))\n",
    "data[\"Day_Since_CC_connect\"] = data[\"Day_Since_CC_connect\"].apply(lambda x: str(x).replace(\"$\", \"0\"))\n",
    "\n",
    "\n",
    "data[\"Day_Since_CC_connect\"] = data[\"Day_Since_CC_connect\"].astype(\"object\")  # Convert to object after replacing\n",
    "data.describe(include=\"all\")[\"Day_Since_CC_connect\"]  # Get the description of the \"Gender\" column"
   ]
  },
  {
   "cell_type": "code",
   "execution_count": 162,
   "id": "75d82ac2-df92-42d3-8f5f-9ba9b3017f0a",
   "metadata": {},
   "outputs": [
    {
     "data": {
      "text/plain": [
       "Day_Since_CC_connect\n",
       "0     1322\n",
       "1     1256\n",
       "10     339\n",
       "11     183\n",
       "12     146\n",
       "13     117\n",
       "14      74\n",
       "15      37\n",
       "16      26\n",
       "17      34\n",
       "18      26\n",
       "2     1574\n",
       "3     1816\n",
       "30       2\n",
       "31       2\n",
       "4      893\n",
       "46       1\n",
       "47       2\n",
       "5      479\n",
       "6      229\n",
       "7      911\n",
       "8     1169\n",
       "9      622\n",
       "Name: count, dtype: int64"
      ]
     },
     "execution_count": 162,
     "metadata": {},
     "output_type": "execute_result"
    }
   ],
   "source": [
    "data[\"Day_Since_CC_connect\"].value_counts().sort_index()"
   ]
  },
  {
   "cell_type": "code",
   "execution_count": 164,
   "id": "b257e30f-8d68-4e79-8e4b-4bed92d2495c",
   "metadata": {},
   "outputs": [
    {
     "data": {
      "text/plain": [
       "array(['5', '0', '3', '7', '2', '1', '8', '6', '4', '15', '11', '10', '9',\n",
       "       '13', '12', '17', '16', '14', '30', '46', '18', '31', '47'],\n",
       "      dtype=object)"
      ]
     },
     "execution_count": 164,
     "metadata": {},
     "output_type": "execute_result"
    }
   ],
   "source": [
    "data.Day_Since_CC_connect.unique()"
   ]
  },
  {
   "cell_type": "code",
   "execution_count": 166,
   "id": "06132978-8e44-4777-84fe-7c7ee15a2f05",
   "metadata": {},
   "outputs": [
    {
     "data": {
      "text/plain": [
       "array([159.93, 120.9, nan, ..., 227.36, 226.91, 191.42], dtype=object)"
      ]
     },
     "execution_count": 166,
     "metadata": {},
     "output_type": "execute_result"
    }
   ],
   "source": [
    "data.cashback.unique()"
   ]
  },
  {
   "cell_type": "code",
   "execution_count": 168,
   "id": "8da3ce7b-2623-44f2-9578-d42c8475f638",
   "metadata": {},
   "outputs": [
    {
     "data": {
      "text/plain": [
       "count     10789.00\n",
       "unique     5693.00\n",
       "top         155.62\n",
       "freq         10.00\n",
       "mean           NaN\n",
       "std            NaN\n",
       "min            NaN\n",
       "25%            NaN\n",
       "50%            NaN\n",
       "75%            NaN\n",
       "max            NaN\n",
       "Name: cashback, dtype: float64"
      ]
     },
     "execution_count": 168,
     "metadata": {},
     "output_type": "execute_result"
    }
   ],
   "source": [
    "data.describe(include=\"all\")['cashback']"
   ]
  },
  {
   "cell_type": "code",
   "execution_count": 171,
   "id": "27c0e044-b305-4c8d-856b-1d42005c83aa",
   "metadata": {},
   "outputs": [
    {
     "data": {
      "text/plain": [
       "count     11260\n",
       "unique     5692\n",
       "top           0\n",
       "freq        477\n",
       "mean        NaN\n",
       "std         NaN\n",
       "min         NaN\n",
       "25%         NaN\n",
       "50%         NaN\n",
       "75%         NaN\n",
       "max         NaN\n",
       "Name: cashback, dtype: object"
      ]
     },
     "execution_count": 171,
     "metadata": {},
     "output_type": "execute_result"
    }
   ],
   "source": [
    "\n",
    "# Convert to string before replacing\n",
    "data[\"cashback\"] = data[\"cashback\"].apply(lambda x: str(x).replace(\"nan\", \"0\"))\n",
    "data[\"cashback\"] = data[\"cashback\"].apply(lambda x: str(x).replace(\"$\", \"0\"))\n",
    "\n",
    "\n",
    "data[\"cashback\"] = data[\"cashback\"].astype(\"object\")  # Convert to object after replacing\n",
    "data.describe(include=\"all\")[\"cashback\"]  # Get the description of the \"Gender\" column"
   ]
  },
  {
   "cell_type": "code",
   "execution_count": 172,
   "id": "6c166343-71be-4d67-be13-66232a754f29",
   "metadata": {},
   "outputs": [
    {
     "data": {
      "text/plain": [
       "cashback\n",
       "0                     477\n",
       "110.09                  2\n",
       "110.50999999999999      2\n",
       "110.52000000000001      2\n",
       "110.81                  3\n",
       "                     ... \n",
       "41                      1\n",
       "5                       1\n",
       "56                      1\n",
       "57                      1\n",
       "81                      2\n",
       "Name: count, Length: 5692, dtype: int64"
      ]
     },
     "execution_count": 172,
     "metadata": {},
     "output_type": "execute_result"
    }
   ],
   "source": [
    "data[\"cashback\"].value_counts().sort_index()"
   ]
  },
  {
   "cell_type": "code",
   "execution_count": 174,
   "id": "e8fe3882-989f-4a60-ac24-ba6368a1a43c",
   "metadata": {},
   "outputs": [
    {
     "data": {
      "text/plain": [
       "array(['159.93', '120.9', '0', ..., '227.36', '226.91', '191.42'],\n",
       "      dtype=object)"
      ]
     },
     "execution_count": 174,
     "metadata": {},
     "output_type": "execute_result"
    }
   ],
   "source": [
    "data.cashback.unique()"
   ]
  },
  {
   "cell_type": "code",
   "execution_count": 176,
   "id": "f6ef0fd3-f3ee-45da-82b3-c95f83737620",
   "metadata": {},
   "outputs": [
    {
     "data": {
      "text/plain": [
       "array(['Mobile', 'Computer', '&&&&', nan], dtype=object)"
      ]
     },
     "execution_count": 176,
     "metadata": {},
     "output_type": "execute_result"
    }
   ],
   "source": [
    "data.Login_device.unique()"
   ]
  },
  {
   "cell_type": "code",
   "execution_count": 178,
   "id": "ed702a53-dd0f-46b0-9ab2-5643f619d5e3",
   "metadata": {},
   "outputs": [
    {
     "data": {
      "text/plain": [
       "count      11039\n",
       "unique         3\n",
       "top       Mobile\n",
       "freq        7482\n",
       "mean         NaN\n",
       "std          NaN\n",
       "min          NaN\n",
       "25%          NaN\n",
       "50%          NaN\n",
       "75%          NaN\n",
       "max          NaN\n",
       "Name: Login_device, dtype: object"
      ]
     },
     "execution_count": 178,
     "metadata": {},
     "output_type": "execute_result"
    }
   ],
   "source": [
    "data.describe(include=\"all\")['Login_device']"
   ]
  },
  {
   "cell_type": "code",
   "execution_count": 180,
   "id": "0d6f4702-71a6-4910-a152-f22719b6d3c1",
   "metadata": {},
   "outputs": [
    {
     "data": {
      "text/plain": [
       "Login_device\n",
       "&&&&         539\n",
       "Computer    3018\n",
       "Mobile      7482\n",
       "Name: count, dtype: int64"
      ]
     },
     "execution_count": 180,
     "metadata": {},
     "output_type": "execute_result"
    }
   ],
   "source": [
    "data[\"Login_device\"].value_counts().sort_index()"
   ]
  },
  {
   "cell_type": "code",
   "execution_count": 182,
   "id": "13a67a42-b6bd-4e1c-8b74-eaaef43dd236",
   "metadata": {},
   "outputs": [
    {
     "data": {
      "text/plain": [
       "count      11260\n",
       "unique         3\n",
       "top       Mobile\n",
       "freq        7703\n",
       "mean         NaN\n",
       "std          NaN\n",
       "min          NaN\n",
       "25%          NaN\n",
       "50%          NaN\n",
       "75%          NaN\n",
       "max          NaN\n",
       "Name: Login_device, dtype: object"
      ]
     },
     "execution_count": 182,
     "metadata": {},
     "output_type": "execute_result"
    }
   ],
   "source": [
    "\n",
    "# Convert to string before replacing\n",
    "data[\"Login_device\"] = data[\"Login_device\"].apply(lambda x: str(x).replace(\"&&&&\", \"Tab\"))\n",
    "data[\"Login_device\"] = data[\"Login_device\"].apply(lambda x: str(x).replace(\"nan\", \"Mobile\"))\n",
    "\n",
    "\n",
    "data[\"Login_device\"] = data[\"Login_device\"].astype(\"object\")  # Convert to object after replacing\n",
    "data.describe(include=\"all\")[\"Login_device\"]  # Get the description of the \"Gender\" column"
   ]
  },
  {
   "cell_type": "code",
   "execution_count": 184,
   "id": "1bc47b11-c4f4-4b6d-87f0-4f0ac3326cb4",
   "metadata": {},
   "outputs": [
    {
     "data": {
      "text/plain": [
       "Login_device\n",
       "Computer    3018\n",
       "Mobile      7703\n",
       "Tab          539\n",
       "Name: count, dtype: int64"
      ]
     },
     "execution_count": 184,
     "metadata": {},
     "output_type": "execute_result"
    }
   ],
   "source": [
    "data[\"Login_device\"].value_counts().sort_index()"
   ]
  },
  {
   "cell_type": "code",
   "execution_count": 186,
   "id": "a40b19ff-5481-448d-b541-f3b50b557ea2",
   "metadata": {},
   "outputs": [
    {
     "data": {
      "text/plain": [
       "Series([], dtype: int64)"
      ]
     },
     "execution_count": 186,
     "metadata": {},
     "output_type": "execute_result"
    }
   ],
   "source": [
    "data_na = data.isna().sum()\n",
    "data_na[data_na.values>0].sort_values(ascending=False)"
   ]
  },
  {
   "cell_type": "code",
   "execution_count": 188,
   "id": "0ecdabd1-932e-4fe8-af72-3b88d1027695",
   "metadata": {},
   "outputs": [
    {
     "name": "stderr",
     "output_type": "stream",
     "text": [
      "/opt/conda/envs/anaconda-ai-2024.04-py310/lib/python3.10/site-packages/seaborn/_oldcore.py:1119: FutureWarning: use_inf_as_na option is deprecated and will be removed in a future version. Convert inf values to NaN before operating instead.\n",
      "  with pd.option_context('mode.use_inf_as_na', True):\n"
     ]
    },
    {
     "data": {
      "image/png": "[encoded data removed]",
      "text/plain": [
       "<Figure size 640x480 with 1 Axes>"
      ]
     },
     "metadata": {},
     "output_type": "display_data"
    }
   ],
   "source": [
    "# Univariate Analysis\n",
    "# Continous Variables \n",
    "# Univariate Analysis\n",
    "# Continuous Variables \n",
    "import seaborn as sns  # Corrected the module name from 'seanborn' to 'seaborn'\n",
    "import matplotlib.pyplot as plt  # Importing matplotlib for plt to work\n",
    "\n",
    "# Assuming 'data' is a DataFrame that contains a 'Tenure' column\n",
    "# Filter the data to include only tenure up to 60 months\n",
    "filtered_data = data[data['Tenure'] <= 60]\n",
    "\n",
    "# Create the histogram with KDE\n",
    "sns.histplot(filtered_data['Tenure'], kde=True)  # Use the filtered data for the histogram\n",
    "plt.title('Distribution Plot of Tenure (up to 60 months)')\n",
    "plt.xlabel('Tenure (months)')\n",
    "\n",
    "# Calculate and display the total count of tenures\n",
    "total_count = filtered_data['Tenure'].count()  # Count the number of entries in the filtered data\n",
    "plt.figtext(0.15, 0.85, f'Total Tenure Counts: {total_count}', fontsize=12)  # Display total count on the plot\n",
    "\n",
    "plt.show()"
   ]
  },
  {
   "cell_type": "code",
   "execution_count": 190,
   "id": "b6e24414-c589-4a50-b356-16771a4cdef1",
   "metadata": {},
   "outputs": [
    {
     "data": {
      "image/png": "[encoded data removed]",
      "text/plain": [
       "<Figure size 800x500 with 1 Axes>"
      ]
     },
     "metadata": {},
     "output_type": "display_data"
    }
   ],
   "source": [
    "# Assuming 'data' is a DataFrame that contains a 'Churn' column\n",
    "# where 'Churn' is a binary variable (1 for churn, 0 for non-churn)\n",
    "\n",
    "# Assuming 'data' is a DataFrame that contains a 'Churn' column\n",
    "# where 'Churn' is a binary variable (1 for churn, 0 for non-churn)\n",
    "\n",
    "# Assuming 'data' is a DataFrame that contains a 'Churn' column\n",
    "# where 'Churn' is a binary variable (1 for churn, 0 for non-churn)\n",
    "\n",
    "import seaborn as sns\n",
    "import matplotlib.pyplot as plt\n",
    "\n",
    "# Count the frequency of churn vs non-churn accounts\n",
    "churn_counts = data['Churn'].value_counts()  # Count occurrences of each category\n",
    "\n",
    "# Create a bar plot to visualize the churn vs non-churn accounts\n",
    "plt.figure(figsize=(8, 5))  # Set the figure size\n",
    "bar_plot = sns.barplot(x=churn_counts.index, y=churn_counts.values, palette='viridis')  # Create the bar plot\n",
    "plt.title('Frequency of Churn vs Non-Churn Accounts')\n",
    "plt.xlabel('Churn Status (0 = Non-Churn, 1 = Churn)')\n",
    "plt.ylabel('Number of Accounts')\n",
    "plt.xticks(ticks=[0, 1], labels=['Non-Churn', 'Churn'])  # Set x-tick labels\n",
    "\n",
    "# Prepare legend text with total counts\n",
    "non_churn_count = churn_counts[0]  # Total non-churn accounts\n",
    "churn_count = churn_counts[1]  # Total churn accounts\n",
    "legend_text = [f'Non-Churn: {non_churn_count}', f'Churn: {churn_count}']\n",
    "\n",
    "# Adding legend with total counts\n",
    "plt.legend(legend_text, title='Account Status', loc='upper right')  # Add legend with counts\n",
    "\n",
    "plt.show()"
   ]
  },
  {
   "cell_type": "code",
   "execution_count": 191,
   "id": "df6960f1-fdbd-4be2-b634-165780e2a209",
   "metadata": {},
   "outputs": [
    {
     "name": "stdout",
     "output_type": "stream",
     "text": [
      "Mean Tenure: 10.81 months\n",
      "Median Tenure: 8.00 months\n",
      "Mode Tenure: 0.00 months\n"
     ]
    },
    {
     "name": "stderr",
     "output_type": "stream",
     "text": [
      "/opt/conda/envs/anaconda-ai-2024.04-py310/lib/python3.10/site-packages/seaborn/_oldcore.py:1119: FutureWarning: use_inf_as_na option is deprecated and will be removed in a future version. Convert inf values to NaN before operating instead.\n",
      "  with pd.option_context('mode.use_inf_as_na', True):\n"
     ]
    },
    {
     "data": {
      "image/png": "[encoded data removed]",
      "text/plain": [
       "<Figure size 1400x600 with 2 Axes>"
      ]
     },
     "metadata": {},
     "output_type": "display_data"
    }
   ],
   "source": [
    "# Assuming 'data' is a DataFrame that contains a 'Tenure' column\n",
    "\n",
    "# Assuming 'data' is a DataFrame that contains a 'Tenure' column\n",
    "\n",
    "import pandas as pd\n",
    "import seaborn as sns\n",
    "import matplotlib.pyplot as plt\n",
    "from scipy import stats\n",
    "\n",
    "# Calculate descriptive statistics\n",
    "mean_tenure = data['Tenure'].mean()  # Mean\n",
    "median_tenure = data['Tenure'].median()  # Median\n",
    "mode_tenure = data['Tenure'].mode()[0]  # Mode (taking the first mode if there are multiple)\n",
    "\n",
    "# Print the descriptive statistics\n",
    "print(f\"Mean Tenure: {mean_tenure:.2f} months\")\n",
    "print(f\"Median Tenure: {median_tenure:.2f} months\")\n",
    "print(f\"Mode Tenure: {mode_tenure:.2f} months\")\n",
    "\n",
    "# Create a figure for the plots\n",
    "plt.figure(figsize=(14, 6))\n",
    "\n",
    "# Histogram\n",
    "plt.subplot(1, 2, 1)  # 1 row, 2 columns, 1st subplot\n",
    "sns.histplot(data['Tenure'], kde=True, color='blue', bins=30)  # Histogram with KDE\n",
    "plt.title('Histogram of Tenure')\n",
    "plt.xlabel('Tenure (months)')\n",
    "plt.ylabel('Frequency')\n",
    "\n",
    "# Adding legend for the histogram\n",
    "plt.axvline(mean_tenure, color='red', linestyle='--', label=f'Mean: {mean_tenure:.2f} months')  # Mean line\n",
    "plt.axvline(median_tenure, color='orange', linestyle='--', label=f'Median: {median_tenure:.2f} months')  # Median line\n",
    "plt.axvline(mode_tenure, color='green', linestyle='--', label=f'Mode: {mode_tenure:.2f} months')  # Mode line\n",
    "plt.legend()  # Show legend\n",
    "\n",
    "# Box Plot\n",
    "plt.subplot(1, 2, 2)  # 1 row, 2 columns, 2nd subplot\n",
    "sns.boxplot(x=data['Tenure'], color='lightgreen')  # Box plot\n",
    "plt.title('Box Plot of Tenure')\n",
    "plt.xlabel('Tenure (months)')\n",
    "\n",
    "# Adding legend for the box plot\n",
    "plt.axvline(mean_tenure, color='red', linestyle='--', label=f'Mean: {mean_tenure:.2f} months')  # Mean line\n",
    "plt.axvline(median_tenure, color='orange', linestyle='--', label=f'Median: {median_tenure:.2f} months')  # Median line\n",
    "plt.axvline(mode_tenure, color='green', linestyle='--', label=f'Mode: {mode_tenure:.2f} months')  # Mode line\n",
    "plt.legend()  # Show legend\n",
    "\n",
    "plt.tight_layout()  # Adjust layout to prevent overlap\n",
    "plt.show()"
   ]
  },
  {
   "cell_type": "code",
   "execution_count": 193,
   "id": "d81356d4-7208-4b23-b75f-5f7b868dbfbe",
   "metadata": {},
   "outputs": [
    {
     "data": {
      "image/png": "[encoded data removed]",
      "text/plain": [
       "<Figure size 1000x600 with 1 Axes>"
      ]
     },
     "metadata": {},
     "output_type": "display_data"
    }
   ],
   "source": [
    "import pandas as pd\n",
    "import matplotlib.pyplot as plt\n",
    "import seaborn as sns\n",
    "\n",
    "# data and CC_Contacted_LY is the relevant column\n",
    "# Create a frequency distribution\n",
    "frequency_distribution = data['CC_Contacted_LY'].value_counts().sort_index()\n",
    "\n",
    "# Calculate high and low values and their frequencies\n",
    "high_value = frequency_distribution.index.max()\n",
    "low_value = frequency_distribution.index.min()\n",
    "high_value_freq = frequency_distribution[high_value]\n",
    "low_value_freq = frequency_distribution[low_value]\n",
    "\n",
    "# Plotting the frequency distribution\n",
    "plt.figure(figsize=(10, 6))\n",
    "sns.barplot(x=frequency_distribution.index, y=frequency_distribution.values, palette='viridis')\n",
    "plt.title('Frequency Distribution of Customer Contacts in Last 12 Months')\n",
    "plt.xlabel('Number of Contacts')\n",
    "plt.ylabel('Frequency')\n",
    "plt.xticks(rotation=45)\n",
    "\n",
    "# Adding high and low values with their frequencies to the legend\n",
    "plt.legend([f'High Value: {high_value} (Frequency: {high_value_freq})', \n",
    "            f'Low Value: {low_value} (Frequency: {low_value_freq})'], loc='upper right')\n",
    "\n",
    "plt.show()"
   ]
  },
  {
   "cell_type": "code",
   "execution_count": 195,
   "id": "01960d22-d48d-49e4-85d4-f7db86a4c2bb",
   "metadata": {},
   "outputs": [
    {
     "name": "stdout",
     "output_type": "stream",
     "text": [
      "Descriptive Statistics of Service Satisfaction Scores (0-5):\n",
      "count    11260.000000\n",
      "mean         2.877265\n",
      "std          0.771090\n",
      "min          0.000000\n",
      "25%          2.000000\n",
      "50%          3.000000\n",
      "75%          3.000000\n",
      "max          5.000000\n",
      "Name: Service_Score, dtype: float64\n"
     ]
    },
    {
     "name": "stderr",
     "output_type": "stream",
     "text": [
      "/opt/conda/envs/anaconda-ai-2024.04-py310/lib/python3.10/site-packages/seaborn/_oldcore.py:1119: FutureWarning: use_inf_as_na option is deprecated and will be removed in a future version. Convert inf values to NaN before operating instead.\n",
      "  with pd.option_context('mode.use_inf_as_na', True):\n"
     ]
    },
    {
     "data": {
      "image/png": "[encoded data removed]",
      "text/plain": [
       "<Figure size 1000x600 with 1 Axes>"
      ]
     },
     "metadata": {},
     "output_type": "display_data"
    }
   ],
   "source": [
    "import pandas as pd\n",
    "import matplotlib.pyplot as plt\n",
    "import seaborn as sns\n",
    "\n",
    "# Assuming 'data' is your DataFrame containing the 'Service_Score' column\n",
    "\n",
    "# Step 1: Filter the DataFrame for Service_Score in the range 0-5\n",
    "filtered_data = data[(data['Service_Score'] >= 0) & (data['Service_Score'] <= 5)]\n",
    "\n",
    "# Step 2: Calculate descriptive statistics for Service_Score\n",
    "descriptive_stats = filtered_data['Service_Score'].describe()\n",
    "\n",
    "# Print descriptive statistics including total frequency\n",
    "print(\"Descriptive Statistics of Service Satisfaction Scores (0-5):\")\n",
    "print(descriptive_stats)\n",
    "total_frequency = len(filtered_data)  # Total number of observations\n",
    "\n",
    "# Step 3: Visualizing the distribution of service scores\n",
    "plt.figure(figsize=(10, 6))\n",
    "sns.histplot(filtered_data['Service_Score'], bins=10, kde=True, color='blue')\n",
    "plt.title('Distribution of Service Satisfaction Scores (0-5)')\n",
    "plt.xlabel('Service Score')\n",
    "plt.ylabel('Frequency')\n",
    "\n",
    "# Update legend labels to include total frequency\n",
    "plt.axvline(descriptive_stats['mean'], color='red', linestyle='dashed', linewidth=1, \n",
    "            label=f'Mean: {descriptive_stats[\"mean\"]:.2f} (Total: {total_frequency})')\n",
    "plt.axvline(descriptive_stats['50%'], color='green', linestyle='dashed', linewidth=1, \n",
    "            label=f'Median: {descriptive_stats[\"50%\"]:.2f} (Total: {total_frequency})')  # Median\n",
    "\n",
    "plt.legend()\n",
    "plt.show()\n",
    "\n",
    "# Note: Removed trend analysis since there is no 'Date' column"
   ]
  },
  {
   "cell_type": "code",
   "execution_count": 196,
   "id": "aeaf21c2-bf37-4d57-9218-56d347567637",
   "metadata": {},
   "outputs": [
    {
     "name": "stdout",
     "output_type": "stream",
     "text": [
      "Descriptive Statistics of Customer Care Satisfaction Scores (0-5):\n",
      "count    11260.000000\n",
      "mean         3.034902\n",
      "std          1.407139\n",
      "min          0.000000\n",
      "25%          2.000000\n",
      "50%          3.000000\n",
      "75%          4.000000\n",
      "max          5.000000\n",
      "Name: CC_Agent_Score, dtype: float64\n"
     ]
    },
    {
     "name": "stderr",
     "output_type": "stream",
     "text": [
      "/opt/conda/envs/anaconda-ai-2024.04-py310/lib/python3.10/site-packages/seaborn/_oldcore.py:1119: FutureWarning: use_inf_as_na option is deprecated and will be removed in a future version. Convert inf values to NaN before operating instead.\n",
      "  with pd.option_context('mode.use_inf_as_na', True):\n"
     ]
    },
    {
     "data": {
      "image/png": "[encoded data removed]",
      "text/plain": [
       "<Figure size 1000x600 with 1 Axes>"
      ]
     },
     "metadata": {},
     "output_type": "display_data"
    }
   ],
   "source": [
    "\n",
    "\n",
    "# Assuming 'data' is your DataFrame containing the 'CC_Agent_Score' column\n",
    "\n",
    "# Step 1: Filter the DataFrame for CC_Agent_Score in the range 0-5 (if applicable)\n",
    "filtered_data = data[(data['CC_Agent_Score'] >= 0) & (data['CC_Agent_Score'] <= 5)]\n",
    "\n",
    "# Step 2: Calculate descriptive statistics for CC_Agent_Score\n",
    "descriptive_stats = filtered_data['CC_Agent_Score'].describe()\n",
    "\n",
    "# Print descriptive statistics including total frequency\n",
    "print(\"Descriptive Statistics of Customer Care Satisfaction Scores (0-5):\")\n",
    "print(descriptive_stats)\n",
    "total_frequency = len(filtered_data)  # Total number of observations\n",
    "\n",
    "# Step 3: Visualizing the distribution of customer care scores\n",
    "plt.figure(figsize=(10, 6))\n",
    "sns.histplot(filtered_data['CC_Agent_Score'], bins=10, kde=True, color='blue')\n",
    "plt.title('Distribution of Customer Care Satisfaction Scores (0-5)')\n",
    "plt.xlabel('Customer Care Score')\n",
    "plt.ylabel('Frequency')\n",
    "\n",
    "# Update legend labels to include total frequency\n",
    "plt.axvline(descriptive_stats['mean'], color='red', linestyle='dashed', linewidth=1, \n",
    "            label=f'Mean: {descriptive_stats[\"mean\"]:.2f} (Total: {total_frequency})')\n",
    "plt.axvline(descriptive_stats['50%'], color='green', linestyle='dashed', linewidth=1, \n",
    "            label=f'Median: {descriptive_stats[\"50%\"]:.2f} (Total: {total_frequency})')  # Median\n",
    "\n",
    "plt.legend()\n",
    "plt.show()\n",
    "\n",
    "# Note: Removed trend analysis since there is no 'Date' column"
   ]
  },
  {
   "cell_type": "code",
   "execution_count": 198,
   "id": "dea187fd-ab2f-48e5-8292-c495e3ebc7ff",
   "metadata": {},
   "outputs": [
    {
     "name": "stdout",
     "output_type": "stream",
     "text": [
      "Total Complaints Raised in the Last 12 Months: 3111.0\n",
      "Average Complaints per Customer: 0.28\n"
     ]
    },
    {
     "name": "stderr",
     "output_type": "stream",
     "text": [
      "/opt/conda/envs/anaconda-ai-2024.04-py310/lib/python3.10/site-packages/seaborn/_oldcore.py:1119: FutureWarning: use_inf_as_na option is deprecated and will be removed in a future version. Convert inf values to NaN before operating instead.\n",
      "  with pd.option_context('mode.use_inf_as_na', True):\n"
     ]
    },
    {
     "data": {
      "image/png": "[encoded data removed]",
      "text/plain": [
       "<Figure size 1000x600 with 1 Axes>"
      ]
     },
     "metadata": {},
     "output_type": "display_data"
    }
   ],
   "source": [
    "\n",
    "\n",
    "# Assuming 'data' is your DataFrame containing the 'Complain_ly' column\n",
    "\n",
    "# Step 1: Convert 'Complain_ly' to numeric, forcing errors to NaN\n",
    "data['Complain_ly'] = pd.to_numeric(data['Complain_ly'], errors='coerce')\n",
    "\n",
    "# Calculate total complaints and average complaints per customer\n",
    "total_complaints = data['Complain_ly'].sum()  # Total number of complaints\n",
    "total_customers = len(data)  # Total number of customers\n",
    "average_complaints_per_customer = total_complaints / total_customers if total_customers > 0 else 0  # Average complaints per customer\n",
    "\n",
    "# Print the results\n",
    "print(f\"Total Complaints Raised in the Last 12 Months: {total_complaints}\")\n",
    "print(f\"Average Complaints per Customer: {average_complaints_per_customer:.2f}\")\n",
    "\n",
    "# Step 2: Visualizing the frequency of complaints\n",
    "plt.figure(figsize=(10, 6))\n",
    "sns.histplot(data['Complain_ly'], bins=10, kde=True, color='blue')\n",
    "plt.title('Frequency of Complaints Raised in the Last 12 Months')\n",
    "plt.xlabel('Number of Complaints')\n",
    "plt.ylabel('Frequency')\n",
    "\n",
    "# Add vertical line for average complaints per customer\n",
    "plt.axvline(average_complaints_per_customer, color='red', linestyle='dashed', linewidth=1, \n",
    "            label=f'Average Complaints per Customer: {average_complaints_per_customer:.2f}')\n",
    "\n",
    "plt.legend()\n",
    "plt.show()"
   ]
  },
  {
   "cell_type": "code",
   "execution_count": 200,
   "id": "fbed6adc-8c8a-4446-8ee5-94c2810d57b7",
   "metadata": {},
   "outputs": [
    {
     "name": "stdout",
     "output_type": "stream",
     "text": [
      "Total Complaints Raised in the Last 12 Months: 3111.0\n"
     ]
    },
    {
     "name": "stderr",
     "output_type": "stream",
     "text": [
      "/opt/conda/envs/anaconda-ai-2024.04-py310/lib/python3.10/site-packages/seaborn/_oldcore.py:1119: FutureWarning: use_inf_as_na option is deprecated and will be removed in a future version. Convert inf values to NaN before operating instead.\n",
      "  with pd.option_context('mode.use_inf_as_na', True):\n"
     ]
    },
    {
     "data": {
      "image/png": "[encoded data removed]",
      "text/plain": [
       "<Figure size 1000x600 with 1 Axes>"
      ]
     },
     "metadata": {},
     "output_type": "display_data"
    }
   ],
   "source": [
    "\n",
    "# Assuming 'data' is your DataFrame containing the 'Complain_ly' column\n",
    "\n",
    "# Step 1: Convert 'Complain_ly' to numeric, forcing errors to NaN\n",
    "data['Complain_ly'] = pd.to_numeric(data['Complain_ly'], errors='coerce')\n",
    "\n",
    "# Calculate total complaints\n",
    "total_complaints = data['Complain_ly'].sum()  # Total number of complaints\n",
    "\n",
    "# Print the results\n",
    "print(f\"Total Complaints Raised in the Last 12 Months: {total_complaints}\")\n",
    "\n",
    "# Step 2: Visualizing the frequency of complaints\n",
    "plt.figure(figsize=(10, 6))\n",
    "sns.histplot(data['Complain_ly'], bins=10, kde=True, color='blue')\n",
    "plt.title('Frequency of Complaints Raised in the Last 12 Months')\n",
    "plt.xlabel('Number of Complaints')\n",
    "plt.ylabel('Frequency')\n",
    "plt.legend([f'Total Complaints in a Year: {total_complaints}'])\n",
    "plt.show()"
   ]
  },
  {
   "cell_type": "code",
   "execution_count": 219,
   "id": "8248937f-7e0f-4d60-bc83-ad25f06dfd34",
   "metadata": {},
   "outputs": [
    {
     "data": {
      "image/png": "[encoded data removed]",
      "text/plain": [
       "<Figure size 1000x600 with 1 Axes>"
      ]
     },
     "metadata": {},
     "output_type": "display_data"
    }
   ],
   "source": [
    "import pandas as pd\n",
    "import seaborn as sns\n",
    "import matplotlib.pyplot as plt\n",
    "\n",
    "# Assuming 'data' is your DataFrame\n",
    "# Convert 'coupon_used_for_payment' to numeric, forcing errors to NaN\n",
    "data['coupon_used_for_payment'] = pd.to_numeric(data['coupon_used_for_payment'], errors='coerce')\n",
    "\n",
    "# Group by account_segment and calculate the total of coupon_used_for_payment\n",
    "coupon_usage = data.groupby('account_segment')['coupon_used_for_payment'].sum().reset_index()\n",
    "\n",
    "# Plotting the results\n",
    "plt.figure(figsize=(10, 6))\n",
    "sns.barplot(x='account_segment', y='coupon_used_for_payment', data=coupon_usage)\n",
    "plt.title('Total Coupon Used per Payment by Account Segment')\n",
    "plt.xlabel('Account Segment')\n",
    "plt.ylabel('Total Coupon Used per Payment')\n",
    "plt.xticks(rotation=45)\n",
    "plt.show()"
   ]
  },
  {
   "cell_type": "code",
   "execution_count": 231,
   "id": "66697eda-0def-4339-9c29-2af9c9bec0a5",
   "metadata": {},
   "outputs": [
    {
     "name": "stdout",
     "output_type": "stream",
     "text": [
      "Average Days Since Last Contact: 4.49\n"
     ]
    },
    {
     "name": "stderr",
     "output_type": "stream",
     "text": [
      "/opt/conda/envs/anaconda-ai-2024.04-py310/lib/python3.10/site-packages/seaborn/_oldcore.py:1119: FutureWarning: use_inf_as_na option is deprecated and will be removed in a future version. Convert inf values to NaN before operating instead.\n",
      "  with pd.option_context('mode.use_inf_as_na', True):\n"
     ]
    },
    {
     "data": {
      "image/png": "[encoded data removed]",
      "text/plain": [
       "<Figure size 1000x600 with 1 Axes>"
      ]
     },
     "metadata": {},
     "output_type": "display_data"
    }
   ],
   "source": [
    "import pandas as pd\n",
    "import matplotlib.pyplot as plt\n",
    "import seaborn as sns\n",
    "\n",
    "# Assuming 'data' is your DataFrame containing the 'Day_Since_CC_connect' column\n",
    "# data = pd.read_csv('your_data_file.csv')  # Load your data\n",
    "\n",
    "# Calculate the average days since last contact\n",
    "average_days = data['Day_Since_CC_connect'].mean()\n",
    "print(f'Average Days Since Last Contact: {average_days:.2f}')\n",
    "\n",
    "# Visualize the distribution\n",
    "plt.figure(figsize=(10, 6))\n",
    "sns.histplot(data['Day_Since_CC_connect'], bins=30, kde=True)\n",
    "plt.title('Distribution of Days Since Last Contact with Customer Care')\n",
    "plt.xlabel('Days Since Last Contact')\n",
    "plt.ylabel('Frequency')\n",
    "plt.axvline(average_days, color='red', linestyle='dashed', linewidth=1, label='Average Days')\n",
    "plt.legend()\n",
    "plt.show()"
   ]
  }
 ],
 "metadata": {
  "kernelspec": {
   "display_name": "anaconda-ai-2024.04-py310",
   "language": "python",
   "name": "conda-env-anaconda-ai-2024.04-py310-py"
  },
  "language_info": {
   "codemirror_mode": {
    "name": "ipython",
    "version": 3
   },
   "file_extension": ".py",
   "mimetype": "text/x-python",
   "name": "python",
   "nbconvert_exporter": "python",
   "pygments_lexer": "ipython3",
   "version": "3.10.13"
  }
 },
 "nbformat": 4,
 "nbformat_minor": 5
}
